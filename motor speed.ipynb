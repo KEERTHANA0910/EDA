{
 "cells": [
  {
   "cell_type": "code",
   "execution_count": 1,
   "metadata": {},
   "outputs": [],
   "source": [
    "import pandas as pd\n",
    "import numpy as np\n",
    "import matplotlib.pyplot as plt\n",
    "import seaborn as sns"
   ]
  },
  {
   "cell_type": "code",
   "execution_count": 2,
   "metadata": {},
   "outputs": [],
   "source": [
    "traindata=pd.read_csv(\"train.csv\")"
   ]
  },
  {
   "cell_type": "code",
   "execution_count": 3,
   "metadata": {},
   "outputs": [
    {
     "data": {
      "text/plain": [
       "Index(['Unnamed: 0', 'ambient', 'coolant', 'u_d', 'u_q', 'motor_speed',\n",
       "       'torque', 'i_d', 'i_q', 'pm', 'stator_yoke', 'stator_tooth',\n",
       "       'stator_winding', 'profile_id'],\n",
       "      dtype='object')"
      ]
     },
     "execution_count": 3,
     "metadata": {},
     "output_type": "execute_result"
    }
   ],
   "source": [
    "traindata.columns"
   ]
  },
  {
   "cell_type": "code",
   "execution_count": 4,
   "metadata": {},
   "outputs": [],
   "source": [
    "traindata=traindata.drop(\"profile_id\",axis=1)"
   ]
  },
  {
   "cell_type": "code",
   "execution_count": 5,
   "metadata": {},
   "outputs": [],
   "source": [
    "traindata=traindata.drop(\"Unnamed: 0\",axis=1)"
   ]
  },
  {
   "cell_type": "code",
   "execution_count": null,
   "metadata": {},
   "outputs": [],
   "source": []
  },
  {
   "cell_type": "code",
   "execution_count": 68,
   "metadata": {},
   "outputs": [
    {
     "data": {
      "text/plain": [
       "ambient          -0.847203\n",
       "coolant           0.628235\n",
       "u_d               0.195220\n",
       "u_q               0.199884\n",
       "motor_speed       0.332818\n",
       "torque           -0.043587\n",
       "i_d              -0.621576\n",
       "i_q              -0.076394\n",
       "pm               -0.231477\n",
       "stator_yoke       0.257320\n",
       "stator_tooth     -0.061245\n",
       "stator_winding   -0.028170\n",
       "dtype: float64"
      ]
     },
     "execution_count": 68,
     "metadata": {},
     "output_type": "execute_result"
    }
   ],
   "source": [
    "traindata.skew()"
   ]
  },
  {
   "cell_type": "code",
   "execution_count": 69,
   "metadata": {},
   "outputs": [
    {
     "data": {
      "text/plain": [
       "ambient           0.817875\n",
       "coolant          -0.759152\n",
       "u_d              -0.522275\n",
       "u_q              -1.271397\n",
       "motor_speed      -1.168514\n",
       "torque            0.781184\n",
       "i_d              -0.755862\n",
       "i_q               0.787067\n",
       "pm               -0.346942\n",
       "stator_yoke      -0.729991\n",
       "stator_tooth     -0.780470\n",
       "stator_winding   -0.729009\n",
       "dtype: float64"
      ]
     },
     "execution_count": 69,
     "metadata": {},
     "output_type": "execute_result"
    }
   ],
   "source": [
    "traindata.kurtosis()"
   ]
  },
  {
   "cell_type": "code",
   "execution_count": 70,
   "metadata": {},
   "outputs": [
    {
     "data": {
      "text/html": [
       "<div>\n",
       "<style scoped>\n",
       "    .dataframe tbody tr th:only-of-type {\n",
       "        vertical-align: middle;\n",
       "    }\n",
       "\n",
       "    .dataframe tbody tr th {\n",
       "        vertical-align: top;\n",
       "    }\n",
       "\n",
       "    .dataframe thead th {\n",
       "        text-align: right;\n",
       "    }\n",
       "</style>\n",
       "<table border=\"1\" class=\"dataframe\">\n",
       "  <thead>\n",
       "    <tr style=\"text-align: right;\">\n",
       "      <th></th>\n",
       "      <th>ambient</th>\n",
       "      <th>coolant</th>\n",
       "      <th>u_d</th>\n",
       "      <th>u_q</th>\n",
       "      <th>motor_speed</th>\n",
       "      <th>torque</th>\n",
       "      <th>i_d</th>\n",
       "      <th>i_q</th>\n",
       "      <th>pm</th>\n",
       "      <th>stator_yoke</th>\n",
       "      <th>stator_tooth</th>\n",
       "      <th>stator_winding</th>\n",
       "    </tr>\n",
       "  </thead>\n",
       "  <tbody>\n",
       "    <tr>\n",
       "      <th>ambient</th>\n",
       "      <td>1.000000</td>\n",
       "      <td>0.434070</td>\n",
       "      <td>0.195035</td>\n",
       "      <td>0.087877</td>\n",
       "      <td>0.078842</td>\n",
       "      <td>-0.262591</td>\n",
       "      <td>0.005567</td>\n",
       "      <td>-0.260852</td>\n",
       "      <td>0.501772</td>\n",
       "      <td>0.451555</td>\n",
       "      <td>0.396907</td>\n",
       "      <td>0.302270</td>\n",
       "    </tr>\n",
       "    <tr>\n",
       "      <th>coolant</th>\n",
       "      <td>0.434070</td>\n",
       "      <td>1.000000</td>\n",
       "      <td>0.178710</td>\n",
       "      <td>0.027681</td>\n",
       "      <td>-0.032963</td>\n",
       "      <td>-0.189276</td>\n",
       "      <td>0.107858</td>\n",
       "      <td>-0.185776</td>\n",
       "      <td>0.430885</td>\n",
       "      <td>0.874034</td>\n",
       "      <td>0.689205</td>\n",
       "      <td>0.509759</td>\n",
       "    </tr>\n",
       "    <tr>\n",
       "      <th>u_d</th>\n",
       "      <td>0.195035</td>\n",
       "      <td>0.178710</td>\n",
       "      <td>1.000000</td>\n",
       "      <td>-0.027819</td>\n",
       "      <td>-0.234200</td>\n",
       "      <td>-0.821098</td>\n",
       "      <td>0.358674</td>\n",
       "      <td>-0.796324</td>\n",
       "      <td>-0.082117</td>\n",
       "      <td>0.041710</td>\n",
       "      <td>-0.065836</td>\n",
       "      <td>-0.150296</td>\n",
       "    </tr>\n",
       "    <tr>\n",
       "      <th>u_q</th>\n",
       "      <td>0.087877</td>\n",
       "      <td>0.027681</td>\n",
       "      <td>-0.027819</td>\n",
       "      <td>1.000000</td>\n",
       "      <td>0.717111</td>\n",
       "      <td>-0.037028</td>\n",
       "      <td>-0.182545</td>\n",
       "      <td>-0.026160</td>\n",
       "      <td>0.101475</td>\n",
       "      <td>0.106183</td>\n",
       "      <td>0.149082</td>\n",
       "      <td>0.125601</td>\n",
       "    </tr>\n",
       "    <tr>\n",
       "      <th>motor_speed</th>\n",
       "      <td>0.078842</td>\n",
       "      <td>-0.032963</td>\n",
       "      <td>-0.234200</td>\n",
       "      <td>0.717111</td>\n",
       "      <td>1.000000</td>\n",
       "      <td>0.024583</td>\n",
       "      <td>-0.723145</td>\n",
       "      <td>0.006349</td>\n",
       "      <td>0.332852</td>\n",
       "      <td>0.182961</td>\n",
       "      <td>0.334283</td>\n",
       "      <td>0.393611</td>\n",
       "    </tr>\n",
       "    <tr>\n",
       "      <th>torque</th>\n",
       "      <td>-0.262591</td>\n",
       "      <td>-0.189276</td>\n",
       "      <td>-0.821098</td>\n",
       "      <td>-0.037028</td>\n",
       "      <td>0.024583</td>\n",
       "      <td>1.000000</td>\n",
       "      <td>-0.238838</td>\n",
       "      <td>0.996565</td>\n",
       "      <td>-0.073057</td>\n",
       "      <td>-0.092276</td>\n",
       "      <td>-0.011416</td>\n",
       "      <td>0.080399</td>\n",
       "    </tr>\n",
       "    <tr>\n",
       "      <th>i_d</th>\n",
       "      <td>0.005567</td>\n",
       "      <td>0.107858</td>\n",
       "      <td>0.358674</td>\n",
       "      <td>-0.182545</td>\n",
       "      <td>-0.723145</td>\n",
       "      <td>-0.238838</td>\n",
       "      <td>1.000000</td>\n",
       "      <td>-0.204010</td>\n",
       "      <td>-0.299330</td>\n",
       "      <td>-0.180409</td>\n",
       "      <td>-0.388120</td>\n",
       "      <td>-0.540351</td>\n",
       "    </tr>\n",
       "    <tr>\n",
       "      <th>i_q</th>\n",
       "      <td>-0.260852</td>\n",
       "      <td>-0.185776</td>\n",
       "      <td>-0.796324</td>\n",
       "      <td>-0.026160</td>\n",
       "      <td>0.006349</td>\n",
       "      <td>0.996565</td>\n",
       "      <td>-0.204010</td>\n",
       "      <td>1.000000</td>\n",
       "      <td>-0.086657</td>\n",
       "      <td>-0.098888</td>\n",
       "      <td>-0.025615</td>\n",
       "      <td>0.060306</td>\n",
       "    </tr>\n",
       "    <tr>\n",
       "      <th>pm</th>\n",
       "      <td>0.501772</td>\n",
       "      <td>0.430885</td>\n",
       "      <td>-0.082117</td>\n",
       "      <td>0.101475</td>\n",
       "      <td>0.332852</td>\n",
       "      <td>-0.073057</td>\n",
       "      <td>-0.299330</td>\n",
       "      <td>-0.086657</td>\n",
       "      <td>1.000000</td>\n",
       "      <td>0.695267</td>\n",
       "      <td>0.768570</td>\n",
       "      <td>0.729916</td>\n",
       "    </tr>\n",
       "    <tr>\n",
       "      <th>stator_yoke</th>\n",
       "      <td>0.451555</td>\n",
       "      <td>0.874034</td>\n",
       "      <td>0.041710</td>\n",
       "      <td>0.106183</td>\n",
       "      <td>0.182961</td>\n",
       "      <td>-0.092276</td>\n",
       "      <td>-0.180409</td>\n",
       "      <td>-0.098888</td>\n",
       "      <td>0.695267</td>\n",
       "      <td>1.000000</td>\n",
       "      <td>0.949960</td>\n",
       "      <td>0.845375</td>\n",
       "    </tr>\n",
       "    <tr>\n",
       "      <th>stator_tooth</th>\n",
       "      <td>0.396907</td>\n",
       "      <td>0.689205</td>\n",
       "      <td>-0.065836</td>\n",
       "      <td>0.149082</td>\n",
       "      <td>0.334283</td>\n",
       "      <td>-0.011416</td>\n",
       "      <td>-0.388120</td>\n",
       "      <td>-0.025615</td>\n",
       "      <td>0.768570</td>\n",
       "      <td>0.949960</td>\n",
       "      <td>1.000000</td>\n",
       "      <td>0.965700</td>\n",
       "    </tr>\n",
       "    <tr>\n",
       "      <th>stator_winding</th>\n",
       "      <td>0.302270</td>\n",
       "      <td>0.509759</td>\n",
       "      <td>-0.150296</td>\n",
       "      <td>0.125601</td>\n",
       "      <td>0.393611</td>\n",
       "      <td>0.080399</td>\n",
       "      <td>-0.540351</td>\n",
       "      <td>0.060306</td>\n",
       "      <td>0.729916</td>\n",
       "      <td>0.845375</td>\n",
       "      <td>0.965700</td>\n",
       "      <td>1.000000</td>\n",
       "    </tr>\n",
       "  </tbody>\n",
       "</table>\n",
       "</div>"
      ],
      "text/plain": [
       "                 ambient   coolant       u_d       u_q  motor_speed    torque  \\\n",
       "ambient         1.000000  0.434070  0.195035  0.087877     0.078842 -0.262591   \n",
       "coolant         0.434070  1.000000  0.178710  0.027681    -0.032963 -0.189276   \n",
       "u_d             0.195035  0.178710  1.000000 -0.027819    -0.234200 -0.821098   \n",
       "u_q             0.087877  0.027681 -0.027819  1.000000     0.717111 -0.037028   \n",
       "motor_speed     0.078842 -0.032963 -0.234200  0.717111     1.000000  0.024583   \n",
       "torque         -0.262591 -0.189276 -0.821098 -0.037028     0.024583  1.000000   \n",
       "i_d             0.005567  0.107858  0.358674 -0.182545    -0.723145 -0.238838   \n",
       "i_q            -0.260852 -0.185776 -0.796324 -0.026160     0.006349  0.996565   \n",
       "pm              0.501772  0.430885 -0.082117  0.101475     0.332852 -0.073057   \n",
       "stator_yoke     0.451555  0.874034  0.041710  0.106183     0.182961 -0.092276   \n",
       "stator_tooth    0.396907  0.689205 -0.065836  0.149082     0.334283 -0.011416   \n",
       "stator_winding  0.302270  0.509759 -0.150296  0.125601     0.393611  0.080399   \n",
       "\n",
       "                     i_d       i_q        pm  stator_yoke  stator_tooth  \\\n",
       "ambient         0.005567 -0.260852  0.501772     0.451555      0.396907   \n",
       "coolant         0.107858 -0.185776  0.430885     0.874034      0.689205   \n",
       "u_d             0.358674 -0.796324 -0.082117     0.041710     -0.065836   \n",
       "u_q            -0.182545 -0.026160  0.101475     0.106183      0.149082   \n",
       "motor_speed    -0.723145  0.006349  0.332852     0.182961      0.334283   \n",
       "torque         -0.238838  0.996565 -0.073057    -0.092276     -0.011416   \n",
       "i_d             1.000000 -0.204010 -0.299330    -0.180409     -0.388120   \n",
       "i_q            -0.204010  1.000000 -0.086657    -0.098888     -0.025615   \n",
       "pm             -0.299330 -0.086657  1.000000     0.695267      0.768570   \n",
       "stator_yoke    -0.180409 -0.098888  0.695267     1.000000      0.949960   \n",
       "stator_tooth   -0.388120 -0.025615  0.768570     0.949960      1.000000   \n",
       "stator_winding -0.540351  0.060306  0.729916     0.845375      0.965700   \n",
       "\n",
       "                stator_winding  \n",
       "ambient               0.302270  \n",
       "coolant               0.509759  \n",
       "u_d                  -0.150296  \n",
       "u_q                   0.125601  \n",
       "motor_speed           0.393611  \n",
       "torque                0.080399  \n",
       "i_d                  -0.540351  \n",
       "i_q                   0.060306  \n",
       "pm                    0.729916  \n",
       "stator_yoke           0.845375  \n",
       "stator_tooth          0.965700  \n",
       "stator_winding        1.000000  "
      ]
     },
     "execution_count": 70,
     "metadata": {},
     "output_type": "execute_result"
    }
   ],
   "source": [
    "traindata.corr()"
   ]
  },
  {
   "cell_type": "code",
   "execution_count": 71,
   "metadata": {},
   "outputs": [
    {
     "data": {
      "image/png": "[encoded data removed]",
      "text/plain": [
       "<Figure size 432x288 with 2 Axes>"
      ]
     },
     "metadata": {
      "needs_background": "light"
     },
     "output_type": "display_data"
    }
   ],
   "source": [
    "corr = traindata.corr()\n",
    "ax = sns.heatmap(corr)"
   ]
  },
  {
   "cell_type": "code",
   "execution_count": 72,
   "metadata": {},
   "outputs": [
    {
     "data": {
      "text/html": [
       "<div>\n",
       "<style scoped>\n",
       "    .dataframe tbody tr th:only-of-type {\n",
       "        vertical-align: middle;\n",
       "    }\n",
       "\n",
       "    .dataframe tbody tr th {\n",
       "        vertical-align: top;\n",
       "    }\n",
       "\n",
       "    .dataframe thead th {\n",
       "        text-align: right;\n",
       "    }\n",
       "</style>\n",
       "<table border=\"1\" class=\"dataframe\">\n",
       "  <thead>\n",
       "    <tr style=\"text-align: right;\">\n",
       "      <th></th>\n",
       "      <th>ambient</th>\n",
       "      <th>coolant</th>\n",
       "      <th>u_d</th>\n",
       "      <th>u_q</th>\n",
       "      <th>motor_speed</th>\n",
       "      <th>torque</th>\n",
       "      <th>i_d</th>\n",
       "      <th>i_q</th>\n",
       "      <th>pm</th>\n",
       "      <th>stator_yoke</th>\n",
       "      <th>stator_tooth</th>\n",
       "      <th>stator_winding</th>\n",
       "    </tr>\n",
       "  </thead>\n",
       "  <tbody>\n",
       "    <tr>\n",
       "      <th>count</th>\n",
       "      <td>698649.000000</td>\n",
       "      <td>698649.000000</td>\n",
       "      <td>698649.000000</td>\n",
       "      <td>698649.000000</td>\n",
       "      <td>698649.000000</td>\n",
       "      <td>698649.000000</td>\n",
       "      <td>698649.000000</td>\n",
       "      <td>698649.000000</td>\n",
       "      <td>698649.000000</td>\n",
       "      <td>698649.000000</td>\n",
       "      <td>698649.000000</td>\n",
       "      <td>698649.000000</td>\n",
       "    </tr>\n",
       "    <tr>\n",
       "      <th>mean</th>\n",
       "      <td>-0.003129</td>\n",
       "      <td>0.004779</td>\n",
       "      <td>0.004275</td>\n",
       "      <td>-0.005819</td>\n",
       "      <td>-0.006024</td>\n",
       "      <td>-0.002985</td>\n",
       "      <td>0.005794</td>\n",
       "      <td>-0.002809</td>\n",
       "      <td>-0.004385</td>\n",
       "      <td>0.000623</td>\n",
       "      <td>-0.002212</td>\n",
       "      <td>-0.003988</td>\n",
       "    </tr>\n",
       "    <tr>\n",
       "      <th>std</th>\n",
       "      <td>0.992710</td>\n",
       "      <td>1.002086</td>\n",
       "      <td>0.997729</td>\n",
       "      <td>1.002404</td>\n",
       "      <td>1.001700</td>\n",
       "      <td>0.997403</td>\n",
       "      <td>0.999005</td>\n",
       "      <td>0.997375</td>\n",
       "      <td>0.995450</td>\n",
       "      <td>1.001119</td>\n",
       "      <td>0.999732</td>\n",
       "      <td>0.998443</td>\n",
       "    </tr>\n",
       "    <tr>\n",
       "      <th>min</th>\n",
       "      <td>-7.968341</td>\n",
       "      <td>-1.367800</td>\n",
       "      <td>-1.654878</td>\n",
       "      <td>-1.861463</td>\n",
       "      <td>-1.371529</td>\n",
       "      <td>-3.345953</td>\n",
       "      <td>-3.245874</td>\n",
       "      <td>-3.341639</td>\n",
       "      <td>-2.631991</td>\n",
       "      <td>-1.834688</td>\n",
       "      <td>-2.066143</td>\n",
       "      <td>-2.019973</td>\n",
       "    </tr>\n",
       "    <tr>\n",
       "      <th>25%</th>\n",
       "      <td>-0.598182</td>\n",
       "      <td>-1.037856</td>\n",
       "      <td>-0.827631</td>\n",
       "      <td>-0.927994</td>\n",
       "      <td>-0.951892</td>\n",
       "      <td>-0.266604</td>\n",
       "      <td>-0.756753</td>\n",
       "      <td>-0.257268</td>\n",
       "      <td>-0.671621</td>\n",
       "      <td>-0.747074</td>\n",
       "      <td>-0.761951</td>\n",
       "      <td>-0.725651</td>\n",
       "    </tr>\n",
       "    <tr>\n",
       "      <th>50%</th>\n",
       "      <td>0.266325</td>\n",
       "      <td>-0.176651</td>\n",
       "      <td>0.267501</td>\n",
       "      <td>-0.099512</td>\n",
       "      <td>-0.140246</td>\n",
       "      <td>-0.187167</td>\n",
       "      <td>0.213188</td>\n",
       "      <td>-0.188490</td>\n",
       "      <td>0.094138</td>\n",
       "      <td>-0.057264</td>\n",
       "      <td>0.005240</td>\n",
       "      <td>0.006893</td>\n",
       "    </tr>\n",
       "    <tr>\n",
       "      <th>75%</th>\n",
       "      <td>0.686697</td>\n",
       "      <td>0.648482</td>\n",
       "      <td>0.358460</td>\n",
       "      <td>0.852677</td>\n",
       "      <td>0.855411</td>\n",
       "      <td>0.547458</td>\n",
       "      <td>1.013975</td>\n",
       "      <td>0.499623</td>\n",
       "      <td>0.680431</td>\n",
       "      <td>0.697432</td>\n",
       "      <td>0.772349</td>\n",
       "      <td>0.725208</td>\n",
       "    </tr>\n",
       "    <tr>\n",
       "      <th>max</th>\n",
       "      <td>2.967117</td>\n",
       "      <td>2.649032</td>\n",
       "      <td>2.274734</td>\n",
       "      <td>1.793498</td>\n",
       "      <td>2.024151</td>\n",
       "      <td>3.016895</td>\n",
       "      <td>1.060937</td>\n",
       "      <td>2.914185</td>\n",
       "      <td>2.917456</td>\n",
       "      <td>2.449158</td>\n",
       "      <td>2.326668</td>\n",
       "      <td>2.651810</td>\n",
       "    </tr>\n",
       "  </tbody>\n",
       "</table>\n",
       "</div>"
      ],
      "text/plain": [
       "             ambient        coolant            u_d            u_q  \\\n",
       "count  698649.000000  698649.000000  698649.000000  698649.000000   \n",
       "mean       -0.003129       0.004779       0.004275      -0.005819   \n",
       "std         0.992710       1.002086       0.997729       1.002404   \n",
       "min        -7.968341      -1.367800      -1.654878      -1.861463   \n",
       "25%        -0.598182      -1.037856      -0.827631      -0.927994   \n",
       "50%         0.266325      -0.176651       0.267501      -0.099512   \n",
       "75%         0.686697       0.648482       0.358460       0.852677   \n",
       "max         2.967117       2.649032       2.274734       1.793498   \n",
       "\n",
       "         motor_speed         torque            i_d            i_q  \\\n",
       "count  698649.000000  698649.000000  698649.000000  698649.000000   \n",
       "mean       -0.006024      -0.002985       0.005794      -0.002809   \n",
       "std         1.001700       0.997403       0.999005       0.997375   \n",
       "min        -1.371529      -3.345953      -3.245874      -3.341639   \n",
       "25%        -0.951892      -0.266604      -0.756753      -0.257268   \n",
       "50%        -0.140246      -0.187167       0.213188      -0.188490   \n",
       "75%         0.855411       0.547458       1.013975       0.499623   \n",
       "max         2.024151       3.016895       1.060937       2.914185   \n",
       "\n",
       "                  pm    stator_yoke   stator_tooth  stator_winding  \n",
       "count  698649.000000  698649.000000  698649.000000   698649.000000  \n",
       "mean       -0.004385       0.000623      -0.002212       -0.003988  \n",
       "std         0.995450       1.001119       0.999732        0.998443  \n",
       "min        -2.631991      -1.834688      -2.066143       -2.019973  \n",
       "25%        -0.671621      -0.747074      -0.761951       -0.725651  \n",
       "50%         0.094138      -0.057264       0.005240        0.006893  \n",
       "75%         0.680431       0.697432       0.772349        0.725208  \n",
       "max         2.917456       2.449158       2.326668        2.651810  "
      ]
     },
     "execution_count": 72,
     "metadata": {},
     "output_type": "execute_result"
    }
   ],
   "source": [
    "traindata.describe()"
   ]
  },
  {
   "cell_type": "code",
   "execution_count": 73,
   "metadata": {},
   "outputs": [
    {
     "data": {
      "text/html": [
       "<div>\n",
       "<style scoped>\n",
       "    .dataframe tbody tr th:only-of-type {\n",
       "        vertical-align: middle;\n",
       "    }\n",
       "\n",
       "    .dataframe tbody tr th {\n",
       "        vertical-align: top;\n",
       "    }\n",
       "\n",
       "    .dataframe thead th {\n",
       "        text-align: right;\n",
       "    }\n",
       "</style>\n",
       "<table border=\"1\" class=\"dataframe\">\n",
       "  <thead>\n",
       "    <tr style=\"text-align: right;\">\n",
       "      <th></th>\n",
       "      <th>ambient</th>\n",
       "      <th>coolant</th>\n",
       "      <th>u_d</th>\n",
       "      <th>u_q</th>\n",
       "      <th>motor_speed</th>\n",
       "      <th>torque</th>\n",
       "      <th>i_d</th>\n",
       "      <th>i_q</th>\n",
       "      <th>pm</th>\n",
       "      <th>stator_yoke</th>\n",
       "      <th>stator_tooth</th>\n",
       "      <th>stator_winding</th>\n",
       "    </tr>\n",
       "  </thead>\n",
       "  <tbody>\n",
       "    <tr>\n",
       "      <th>0</th>\n",
       "      <td>-0.752143</td>\n",
       "      <td>-1.118446</td>\n",
       "      <td>0.327935</td>\n",
       "      <td>-1.297858</td>\n",
       "      <td>-1.222428</td>\n",
       "      <td>-0.250182</td>\n",
       "      <td>1.029572</td>\n",
       "      <td>-0.245860</td>\n",
       "      <td>-2.522071</td>\n",
       "      <td>-1.831422</td>\n",
       "      <td>-2.066143</td>\n",
       "      <td>-2.018033</td>\n",
       "    </tr>\n",
       "    <tr>\n",
       "      <th>1</th>\n",
       "      <td>-0.782892</td>\n",
       "      <td>-1.116681</td>\n",
       "      <td>0.332771</td>\n",
       "      <td>-1.301822</td>\n",
       "      <td>-1.222428</td>\n",
       "      <td>-0.249431</td>\n",
       "      <td>1.029448</td>\n",
       "      <td>-0.245818</td>\n",
       "      <td>-2.522673</td>\n",
       "      <td>-1.830400</td>\n",
       "      <td>-2.064073</td>\n",
       "      <td>-2.017343</td>\n",
       "    </tr>\n",
       "    <tr>\n",
       "      <th>2</th>\n",
       "      <td>-0.780935</td>\n",
       "      <td>-1.116764</td>\n",
       "      <td>0.333700</td>\n",
       "      <td>-1.301852</td>\n",
       "      <td>-1.222430</td>\n",
       "      <td>-0.248636</td>\n",
       "      <td>1.032845</td>\n",
       "      <td>-0.246955</td>\n",
       "      <td>-2.521639</td>\n",
       "      <td>-1.830333</td>\n",
       "      <td>-2.063137</td>\n",
       "      <td>-2.017632</td>\n",
       "    </tr>\n",
       "    <tr>\n",
       "      <th>3</th>\n",
       "      <td>-0.774043</td>\n",
       "      <td>-1.116775</td>\n",
       "      <td>0.335206</td>\n",
       "      <td>-1.303118</td>\n",
       "      <td>-1.222429</td>\n",
       "      <td>-0.248701</td>\n",
       "      <td>1.031807</td>\n",
       "      <td>-0.246610</td>\n",
       "      <td>-2.521900</td>\n",
       "      <td>-1.830498</td>\n",
       "      <td>-2.062795</td>\n",
       "      <td>-2.018145</td>\n",
       "    </tr>\n",
       "    <tr>\n",
       "      <th>4</th>\n",
       "      <td>-0.762936</td>\n",
       "      <td>-1.116955</td>\n",
       "      <td>0.334901</td>\n",
       "      <td>-1.303017</td>\n",
       "      <td>-1.222429</td>\n",
       "      <td>-0.248197</td>\n",
       "      <td>1.031031</td>\n",
       "      <td>-0.246341</td>\n",
       "      <td>-2.522203</td>\n",
       "      <td>-1.831931</td>\n",
       "      <td>-2.062549</td>\n",
       "      <td>-2.017884</td>\n",
       "    </tr>\n",
       "    <tr>\n",
       "      <th>5</th>\n",
       "      <td>-0.738450</td>\n",
       "      <td>-1.113986</td>\n",
       "      <td>0.336256</td>\n",
       "      <td>-1.305155</td>\n",
       "      <td>-1.222432</td>\n",
       "      <td>-0.248321</td>\n",
       "      <td>1.030107</td>\n",
       "      <td>-0.246035</td>\n",
       "      <td>-2.522844</td>\n",
       "      <td>-1.832182</td>\n",
       "      <td>-2.061953</td>\n",
       "      <td>-2.017213</td>\n",
       "    </tr>\n",
       "    <tr>\n",
       "      <th>6</th>\n",
       "      <td>-0.727130</td>\n",
       "      <td>-1.109486</td>\n",
       "      <td>0.335988</td>\n",
       "      <td>-1.305633</td>\n",
       "      <td>-1.222431</td>\n",
       "      <td>-0.248294</td>\n",
       "      <td>1.029636</td>\n",
       "      <td>-0.245888</td>\n",
       "      <td>-2.522677</td>\n",
       "      <td>-1.831438</td>\n",
       "      <td>-2.062317</td>\n",
       "      <td>-2.018180</td>\n",
       "    </tr>\n",
       "    <tr>\n",
       "      <th>7</th>\n",
       "      <td>-0.704877</td>\n",
       "      <td>-1.109986</td>\n",
       "      <td>0.336241</td>\n",
       "      <td>-1.305820</td>\n",
       "      <td>-1.222434</td>\n",
       "      <td>-0.248002</td>\n",
       "      <td>1.029318</td>\n",
       "      <td>-0.245780</td>\n",
       "      <td>-2.522214</td>\n",
       "      <td>-1.832052</td>\n",
       "      <td>-2.062118</td>\n",
       "      <td>-2.017589</td>\n",
       "    </tr>\n",
       "    <tr>\n",
       "      <th>8</th>\n",
       "      <td>-0.682534</td>\n",
       "      <td>-1.111362</td>\n",
       "      <td>0.335566</td>\n",
       "      <td>-1.303240</td>\n",
       "      <td>-1.222430</td>\n",
       "      <td>-0.247513</td>\n",
       "      <td>1.029274</td>\n",
       "      <td>-0.245775</td>\n",
       "      <td>-2.521926</td>\n",
       "      <td>-1.832031</td>\n",
       "      <td>-2.061756</td>\n",
       "      <td>-2.017257</td>\n",
       "    </tr>\n",
       "    <tr>\n",
       "      <th>9</th>\n",
       "      <td>-0.620099</td>\n",
       "      <td>-1.114285</td>\n",
       "      <td>0.335909</td>\n",
       "      <td>-1.305675</td>\n",
       "      <td>-1.222430</td>\n",
       "      <td>-0.247884</td>\n",
       "      <td>1.029211</td>\n",
       "      <td>-0.245729</td>\n",
       "      <td>-2.522311</td>\n",
       "      <td>-1.831778</td>\n",
       "      <td>-2.061331</td>\n",
       "      <td>-2.017632</td>\n",
       "    </tr>\n",
       "  </tbody>\n",
       "</table>\n",
       "</div>"
      ],
      "text/plain": [
       "    ambient   coolant       u_d       u_q  motor_speed    torque       i_d  \\\n",
       "0 -0.752143 -1.118446  0.327935 -1.297858    -1.222428 -0.250182  1.029572   \n",
       "1 -0.782892 -1.116681  0.332771 -1.301822    -1.222428 -0.249431  1.029448   \n",
       "2 -0.780935 -1.116764  0.333700 -1.301852    -1.222430 -0.248636  1.032845   \n",
       "3 -0.774043 -1.116775  0.335206 -1.303118    -1.222429 -0.248701  1.031807   \n",
       "4 -0.762936 -1.116955  0.334901 -1.303017    -1.222429 -0.248197  1.031031   \n",
       "5 -0.738450 -1.113986  0.336256 -1.305155    -1.222432 -0.248321  1.030107   \n",
       "6 -0.727130 -1.109486  0.335988 -1.305633    -1.222431 -0.248294  1.029636   \n",
       "7 -0.704877 -1.109986  0.336241 -1.305820    -1.222434 -0.248002  1.029318   \n",
       "8 -0.682534 -1.111362  0.335566 -1.303240    -1.222430 -0.247513  1.029274   \n",
       "9 -0.620099 -1.114285  0.335909 -1.305675    -1.222430 -0.247884  1.029211   \n",
       "\n",
       "        i_q        pm  stator_yoke  stator_tooth  stator_winding  \n",
       "0 -0.245860 -2.522071    -1.831422     -2.066143       -2.018033  \n",
       "1 -0.245818 -2.522673    -1.830400     -2.064073       -2.017343  \n",
       "2 -0.246955 -2.521639    -1.830333     -2.063137       -2.017632  \n",
       "3 -0.246610 -2.521900    -1.830498     -2.062795       -2.018145  \n",
       "4 -0.246341 -2.522203    -1.831931     -2.062549       -2.017884  \n",
       "5 -0.246035 -2.522844    -1.832182     -2.061953       -2.017213  \n",
       "6 -0.245888 -2.522677    -1.831438     -2.062317       -2.018180  \n",
       "7 -0.245780 -2.522214    -1.832052     -2.062118       -2.017589  \n",
       "8 -0.245775 -2.521926    -1.832031     -2.061756       -2.017257  \n",
       "9 -0.245729 -2.522311    -1.831778     -2.061331       -2.017632  "
      ]
     },
     "execution_count": 73,
     "metadata": {},
     "output_type": "execute_result"
    }
   ],
   "source": [
    "traindata.head(10)"
   ]
  },
  {
   "cell_type": "code",
   "execution_count": 74,
   "metadata": {},
   "outputs": [
    {
     "data": {
      "text/plain": [
       "(698649, 12)"
      ]
     },
     "execution_count": 74,
     "metadata": {},
     "output_type": "execute_result"
    }
   ],
   "source": [
    "np.shape(traindata)"
   ]
  },
  {
   "cell_type": "code",
   "execution_count": 75,
   "metadata": {},
   "outputs": [
    {
     "data": {
      "text/plain": [
       "ambient           0\n",
       "coolant           0\n",
       "u_d               0\n",
       "u_q               0\n",
       "motor_speed       0\n",
       "torque            0\n",
       "i_d               0\n",
       "i_q               0\n",
       "pm                0\n",
       "stator_yoke       0\n",
       "stator_tooth      0\n",
       "stator_winding    0\n",
       "dtype: int64"
      ]
     },
     "execution_count": 75,
     "metadata": {},
     "output_type": "execute_result"
    }
   ],
   "source": [
    "traindata.isnull().sum()"
   ]
  },
  {
   "cell_type": "code",
   "execution_count": 76,
   "metadata": {},
   "outputs": [
    {
     "data": {
      "text/plain": [
       "(array([1.00000e+00, 1.00000e+00, 2.00000e+00, 1.60000e+01, 2.70330e+04,\n",
       "        3.60860e+04, 1.51692e+05, 4.03874e+05, 7.09580e+04, 8.98600e+03]),\n",
       " array([-7.9683414, -6.8747956, -5.7812498, -4.687704 , -3.5941582,\n",
       "        -2.5006124, -1.4070666, -0.3135208,  0.780025 ,  1.8735708,\n",
       "         2.9671166]),\n",
       " <a list of 10 Patch objects>)"
      ]
     },
     "execution_count": 76,
     "metadata": {},
     "output_type": "execute_result"
    },
    {
     "data": {
      "image/png": "[encoded data removed]",
      "text/plain": [
       "<Figure size 432x288 with 1 Axes>"
      ]
     },
     "metadata": {
      "needs_background": "light"
     },
     "output_type": "display_data"
    }
   ],
   "source": [
    "plt.hist(traindata.ambient)"
   ]
  },
  {
   "cell_type": "code",
   "execution_count": 77,
   "metadata": {},
   "outputs": [
    {
     "data": {
      "text/plain": [
       "(array([190969.,  95096.,  64987.,  73370.,  99452.,  50818.,  37831.,\n",
       "         41932.,  43032.,   1162.]),\n",
       " array([-1.3677999 , -0.96611671, -0.56443352, -0.16275033,  0.23893286,\n",
       "         0.64061605,  1.04229924,  1.44398243,  1.84566562,  2.24734881,\n",
       "         2.649032  ]),\n",
       " <a list of 10 Patch objects>)"
      ]
     },
     "execution_count": 77,
     "metadata": {},
     "output_type": "execute_result"
    },
    {
     "data": {
      "image/png": "[encoded data removed]",
      "text/plain": [
       "<Figure size 432x288 with 1 Axes>"
      ]
     },
     "metadata": {
      "needs_background": "light"
     },
     "output_type": "display_data"
    }
   ],
   "source": [
    "plt.hist(traindata.coolant)"
   ]
  },
  {
   "cell_type": "code",
   "execution_count": 78,
   "metadata": {},
   "outputs": [
    {
     "data": {
      "image/png": "[encoded data removed]",
      "text/plain": [
       "<Figure size 432x288 with 1 Axes>"
      ]
     },
     "metadata": {
      "needs_background": "light"
     },
     "output_type": "display_data"
    }
   ],
   "source": [
    "plt.hist(traindata.u_d)\n",
    "plt.show()"
   ]
  },
  {
   "cell_type": "code",
   "execution_count": 79,
   "metadata": {},
   "outputs": [
    {
     "data": {
      "image/png": "[encoded data removed]",
      "text/plain": [
       "<Figure size 432x288 with 1 Axes>"
      ]
     },
     "metadata": {
      "needs_background": "light"
     },
     "output_type": "display_data"
    }
   ],
   "source": [
    "plt.hist(traindata.u_q)\n",
    "plt.show()"
   ]
  },
  {
   "cell_type": "code",
   "execution_count": 80,
   "metadata": {},
   "outputs": [
    {
     "data": {
      "text/plain": [
       "(array([160838.,  66960.,  78452.,  65333.,  67894.,  52579.,  60559.,\n",
       "         50384.,  60232.,  35418.]),\n",
       " array([-1.3715293 , -1.03196131, -0.69239332, -0.35282533, -0.01325734,\n",
       "         0.32631065,  0.66587864,  1.00544663,  1.34501462,  1.68458261,\n",
       "         2.0241506 ]),\n",
       " <a list of 10 Patch objects>)"
      ]
     },
     "execution_count": 80,
     "metadata": {},
     "output_type": "execute_result"
    },
    {
     "data": {
      "image/png": "[encoded data removed]",
      "text/plain": [
       "<Figure size 432x288 with 1 Axes>"
      ]
     },
     "metadata": {
      "needs_background": "light"
     },
     "output_type": "display_data"
    }
   ],
   "source": [
    "plt.hist(traindata.motor_speed)"
   ]
  },
  {
   "cell_type": "code",
   "execution_count": 81,
   "metadata": {},
   "outputs": [
    {
     "data": {
      "text/plain": [
       "(array([  5030.,  16097.,  38842.,  54480., 238248., 157237., 103926.,\n",
       "         51295.,  23166.,  10328.]),\n",
       " array([-3.345953  , -2.70966822, -2.07338344, -1.43709866, -0.80081388,\n",
       "        -0.1645291 ,  0.47175568,  1.10804046,  1.74432524,  2.38061002,\n",
       "         3.0168948 ]),\n",
       " <a list of 10 Patch objects>)"
      ]
     },
     "execution_count": 81,
     "metadata": {},
     "output_type": "execute_result"
    },
    {
     "data": {
      "image/png": "[encoded data removed]",
      "text/plain": [
       "<Figure size 432x288 with 1 Axes>"
      ]
     },
     "metadata": {
      "needs_background": "light"
     },
     "output_type": "display_data"
    }
   ],
   "source": [
    "plt.hist(traindata.torque)"
   ]
  },
  {
   "cell_type": "code",
   "execution_count": 82,
   "metadata": {},
   "outputs": [
    {
     "data": {
      "text/plain": [
       "(array([   568.,   4859.,  22120.,  37300.,  46254.,  80108.,  84917.,\n",
       "         71680.,  71750., 279093.]),\n",
       " array([-3.2458737 , -2.81519261, -2.38451152, -1.95383043, -1.52314934,\n",
       "        -1.09246825, -0.66178716, -0.23110607,  0.19957502,  0.63025611,\n",
       "         1.0609372 ]),\n",
       " <a list of 10 Patch objects>)"
      ]
     },
     "execution_count": 82,
     "metadata": {},
     "output_type": "execute_result"
    },
    {
     "data": {
      "image/png": "[encoded data removed]",
      "text/plain": [
       "<Figure size 432x288 with 1 Axes>"
      ]
     },
     "metadata": {
      "needs_background": "light"
     },
     "output_type": "display_data"
    }
   ],
   "source": [
    "plt.hist(traindata.i_d)"
   ]
  },
  {
   "cell_type": "code",
   "execution_count": 83,
   "metadata": {},
   "outputs": [
    {
     "data": {
      "text/plain": [
       "(array([  5332.,  16259.,  36950.,  52308., 235998., 141114., 115659.,\n",
       "         55635.,  26166.,  13228.]),\n",
       " array([-3.341639  , -2.71605664, -2.09047428, -1.46489192, -0.83930956,\n",
       "        -0.2137272 ,  0.41185516,  1.03743752,  1.66301988,  2.28860224,\n",
       "         2.9141846 ]),\n",
       " <a list of 10 Patch objects>)"
      ]
     },
     "execution_count": 83,
     "metadata": {},
     "output_type": "execute_result"
    },
    {
     "data": {
      "image/png": "[encoded data removed]",
      "text/plain": [
       "<Figure size 432x288 with 1 Axes>"
      ]
     },
     "metadata": {
      "needs_background": "light"
     },
     "output_type": "display_data"
    }
   ],
   "source": [
    "plt.hist(traindata.i_q)"
   ]
  },
  {
   "cell_type": "code",
   "execution_count": 84,
   "metadata": {},
   "outputs": [
    {
     "data": {
      "text/plain": [
       "(array([ 14067.,  49541.,  61257.,  94054., 146247., 162433., 100686.,\n",
       "         55775.,  11768.,   2821.]),\n",
       " array([-2.6319911 , -2.07704637, -1.52210164, -0.96715691, -0.41221218,\n",
       "         0.14273255,  0.69767728,  1.25262201,  1.80756674,  2.36251147,\n",
       "         2.9174562 ]),\n",
       " <a list of 10 Patch objects>)"
      ]
     },
     "execution_count": 84,
     "metadata": {},
     "output_type": "execute_result"
    },
    {
     "data": {
      "image/png": "[encoded data removed]",
      "text/plain": [
       "<Figure size 432x288 with 1 Axes>"
      ]
     },
     "metadata": {
      "needs_background": "light"
     },
     "output_type": "display_data"
    }
   ],
   "source": [
    "plt.hist(traindata.pm)"
   ]
  },
  {
   "cell_type": "code",
   "execution_count": 85,
   "metadata": {},
   "outputs": [
    {
     "data": {
      "text/plain": [
       "(array([ 63562.,  61830., 100873., 106266., 114539.,  81344.,  58719.,\n",
       "         59471.,  36249.,  15796.]),\n",
       " array([-1.8346876 , -1.40630304, -0.97791848, -0.54953392, -0.12114936,\n",
       "         0.3072352 ,  0.73561976,  1.16400432,  1.59238888,  2.02077344,\n",
       "         2.449158  ]),\n",
       " <a list of 10 Patch objects>)"
      ]
     },
     "execution_count": 85,
     "metadata": {},
     "output_type": "execute_result"
    },
    {
     "data": {
      "image/png": "[encoded data removed]",
      "text/plain": [
       "<Figure size 432x288 with 1 Axes>"
      ]
     },
     "metadata": {
      "needs_background": "light"
     },
     "output_type": "display_data"
    }
   ],
   "source": [
    "plt.hist(traindata.stator_yoke)"
   ]
  },
  {
   "cell_type": "code",
   "execution_count": 86,
   "metadata": {},
   "outputs": [
    {
     "data": {
      "text/plain": [
       "(array([ 48292.,  53137.,  81108.,  78299., 120024.,  99854.,  91668.,\n",
       "         76290.,  35813.,  14164.]),\n",
       " array([-2.0661428 , -1.62686172, -1.18758064, -0.74829956, -0.30901848,\n",
       "         0.1302626 ,  0.56954368,  1.00882476,  1.44810584,  1.88738692,\n",
       "         2.326668  ]),\n",
       " <a list of 10 Patch objects>)"
      ]
     },
     "execution_count": 86,
     "metadata": {},
     "output_type": "execute_result"
    },
    {
     "data": {
      "image/png": "[encoded data removed]",
      "text/plain": [
       "<Figure size 432x288 with 1 Axes>"
      ]
     },
     "metadata": {
      "needs_background": "light"
     },
     "output_type": "display_data"
    }
   ],
   "source": [
    "plt.hist(traindata.stator_tooth)"
   ]
  },
  {
   "cell_type": "code",
   "execution_count": 87,
   "metadata": {},
   "outputs": [
    {
     "data": {
      "text/plain": [
       "(array([ 59712.,  56736.,  75243., 113968., 121707., 108009.,  79496.,\n",
       "         56803.,  24584.,   2391.]),\n",
       " array([-2.0199726 , -1.55279439, -1.08561618, -0.61843797, -0.15125976,\n",
       "         0.31591845,  0.78309666,  1.25027487,  1.71745308,  2.18463129,\n",
       "         2.6518095 ]),\n",
       " <a list of 10 Patch objects>)"
      ]
     },
     "execution_count": 87,
     "metadata": {},
     "output_type": "execute_result"
    },
    {
     "data": {
      "image/png": "[encoded data removed]",
      "text/plain": [
       "<Figure size 432x288 with 1 Axes>"
      ]
     },
     "metadata": {
      "needs_background": "light"
     },
     "output_type": "display_data"
    }
   ],
   "source": [
    "plt.hist(traindata.stator_winding)"
   ]
  },
  {
   "cell_type": "code",
   "execution_count": null,
   "metadata": {},
   "outputs": [],
   "source": []
  },
  {
   "cell_type": "code",
   "execution_count": 88,
   "metadata": {},
   "outputs": [
    {
     "data": {
      "text/plain": [
       "{'whiskers': [<matplotlib.lines.Line2D at 0x22c04318630>,\n",
       "  <matplotlib.lines.Line2D at 0x22c043189e8>],\n",
       " 'caps': [<matplotlib.lines.Line2D at 0x22c04318d30>,\n",
       "  <matplotlib.lines.Line2D at 0x22c04318e10>],\n",
       " 'boxes': [<matplotlib.lines.Line2D at 0x22c04318240>],\n",
       " 'medians': [<matplotlib.lines.Line2D at 0x22c04323400>],\n",
       " 'fliers': [<matplotlib.lines.Line2D at 0x22c04323748>],\n",
       " 'means': []}"
      ]
     },
     "execution_count": 88,
     "metadata": {},
     "output_type": "execute_result"
    },
    {
     "data": {
      "image/png": "[encoded data removed]",
      "text/plain": [
       "<Figure size 432x288 with 1 Axes>"
      ]
     },
     "metadata": {
      "needs_background": "light"
     },
     "output_type": "display_data"
    }
   ],
   "source": [
    "plt.boxplot(traindata.ambient)"
   ]
  },
  {
   "cell_type": "code",
   "execution_count": 89,
   "metadata": {},
   "outputs": [
    {
     "data": {
      "text/plain": [
       "{'whiskers': [<matplotlib.lines.Line2D at 0x22c04374f28>,\n",
       "  <matplotlib.lines.Line2D at 0x22c04380320>],\n",
       " 'caps': [<matplotlib.lines.Line2D at 0x22c04380668>,\n",
       "  <matplotlib.lines.Line2D at 0x22c043809b0>],\n",
       " 'boxes': [<matplotlib.lines.Line2D at 0x22c04374b38>],\n",
       " 'medians': [<matplotlib.lines.Line2D at 0x22c04380cf8>],\n",
       " 'fliers': [<matplotlib.lines.Line2D at 0x22c04380dd8>],\n",
       " 'means': []}"
      ]
     },
     "execution_count": 89,
     "metadata": {},
     "output_type": "execute_result"
    },
    {
     "data": {
      "image/png": "[encoded data removed]",
      "text/plain": [
       "<Figure size 432x288 with 1 Axes>"
      ]
     },
     "metadata": {
      "needs_background": "light"
     },
     "output_type": "display_data"
    }
   ],
   "source": [
    "plt.boxplot(traindata.coolant)"
   ]
  },
  {
   "cell_type": "code",
   "execution_count": 90,
   "metadata": {},
   "outputs": [
    {
     "data": {
      "text/plain": [
       "{'whiskers': [<matplotlib.lines.Line2D at 0x22c043e3940>,\n",
       "  <matplotlib.lines.Line2D at 0x22c043e3cf8>],\n",
       " 'caps': [<matplotlib.lines.Line2D at 0x22c043e3dd8>,\n",
       "  <matplotlib.lines.Line2D at 0x22c043ee3c8>],\n",
       " 'boxes': [<matplotlib.lines.Line2D at 0x22c043e3550>],\n",
       " 'medians': [<matplotlib.lines.Line2D at 0x22c043ee710>],\n",
       " 'fliers': [<matplotlib.lines.Line2D at 0x22c043eea58>],\n",
       " 'means': []}"
      ]
     },
     "execution_count": 90,
     "metadata": {},
     "output_type": "execute_result"
    },
    {
     "data": {
      "image/png": "[encoded data removed]",
      "text/plain": [
       "<Figure size 432x288 with 1 Axes>"
      ]
     },
     "metadata": {
      "needs_background": "light"
     },
     "output_type": "display_data"
    }
   ],
   "source": [
    "plt.boxplot(traindata.u_d)"
   ]
  },
  {
   "cell_type": "code",
   "execution_count": 91,
   "metadata": {},
   "outputs": [
    {
     "data": {
      "text/plain": [
       "{'whiskers': [<matplotlib.lines.Line2D at 0x22c60a2aeb8>,\n",
       "  <matplotlib.lines.Line2D at 0x22c60a2ad30>],\n",
       " 'caps': [<matplotlib.lines.Line2D at 0x22c60a349b0>,\n",
       "  <matplotlib.lines.Line2D at 0x22c60a341d0>],\n",
       " 'boxes': [<matplotlib.lines.Line2D at 0x22c60a2a860>],\n",
       " 'medians': [<matplotlib.lines.Line2D at 0x22c60a34550>],\n",
       " 'fliers': [<matplotlib.lines.Line2D at 0x22c60a34e48>],\n",
       " 'means': []}"
      ]
     },
     "execution_count": 91,
     "metadata": {},
     "output_type": "execute_result"
    },
    {
     "data": {
      "image/png": "[encoded data removed]",
      "text/plain": [
       "<Figure size 432x288 with 1 Axes>"
      ]
     },
     "metadata": {
      "needs_background": "light"
     },
     "output_type": "display_data"
    }
   ],
   "source": [
    "plt.boxplot(traindata.u_q)"
   ]
  },
  {
   "cell_type": "code",
   "execution_count": 92,
   "metadata": {},
   "outputs": [
    {
     "data": {
      "text/plain": [
       "{'whiskers': [<matplotlib.lines.Line2D at 0x22c60efc828>,\n",
       "  <matplotlib.lines.Line2D at 0x22c607083c8>],\n",
       " 'caps': [<matplotlib.lines.Line2D at 0x22c60a7d828>,\n",
       "  <matplotlib.lines.Line2D at 0x22c60a7d630>],\n",
       " 'boxes': [<matplotlib.lines.Line2D at 0x22c60633be0>],\n",
       " 'medians': [<matplotlib.lines.Line2D at 0x22c60a7d978>],\n",
       " 'fliers': [<matplotlib.lines.Line2D at 0x22c60a7d278>],\n",
       " 'means': []}"
      ]
     },
     "execution_count": 92,
     "metadata": {},
     "output_type": "execute_result"
    },
    {
     "data": {
      "image/png": "[encoded data removed]",
      "text/plain": [
       "<Figure size 432x288 with 1 Axes>"
      ]
     },
     "metadata": {
      "needs_background": "light"
     },
     "output_type": "display_data"
    }
   ],
   "source": [
    "plt.boxplot(traindata.motor_speed)"
   ]
  },
  {
   "cell_type": "code",
   "execution_count": 93,
   "metadata": {},
   "outputs": [
    {
     "data": {
      "text/plain": [
       "{'whiskers': [<matplotlib.lines.Line2D at 0x22c5db84550>,\n",
       "  <matplotlib.lines.Line2D at 0x22c5db9deb8>],\n",
       " 'caps': [<matplotlib.lines.Line2D at 0x22c5db9d240>,\n",
       "  <matplotlib.lines.Line2D at 0x22c5db9dbe0>],\n",
       " 'boxes': [<matplotlib.lines.Line2D at 0x22c5db84c88>],\n",
       " 'medians': [<matplotlib.lines.Line2D at 0x22c5db9da90>],\n",
       " 'fliers': [<matplotlib.lines.Line2D at 0x22c5db8b6d8>],\n",
       " 'means': []}"
      ]
     },
     "execution_count": 93,
     "metadata": {},
     "output_type": "execute_result"
    },
    {
     "data": {
      "image/png": "[encoded data removed]",
      "text/plain": [
       "<Figure size 432x288 with 1 Axes>"
      ]
     },
     "metadata": {
      "needs_background": "light"
     },
     "output_type": "display_data"
    }
   ],
   "source": [
    "plt.boxplot(traindata.torque)"
   ]
  },
  {
   "cell_type": "code",
   "execution_count": 94,
   "metadata": {},
   "outputs": [
    {
     "data": {
      "text/plain": [
       "{'whiskers': [<matplotlib.lines.Line2D at 0x22c6061ff98>,\n",
       "  <matplotlib.lines.Line2D at 0x22c60602390>],\n",
       " 'caps': [<matplotlib.lines.Line2D at 0x22c606026d8>,\n",
       "  <matplotlib.lines.Line2D at 0x22c60602a20>],\n",
       " 'boxes': [<matplotlib.lines.Line2D at 0x22c6061fba8>],\n",
       " 'medians': [<matplotlib.lines.Line2D at 0x22c60602d68>],\n",
       " 'fliers': [<matplotlib.lines.Line2D at 0x22c60602e48>],\n",
       " 'means': []}"
      ]
     },
     "execution_count": 94,
     "metadata": {},
     "output_type": "execute_result"
    },
    {
     "data": {
      "image/png": "[encoded data removed]",
      "text/plain": [
       "<Figure size 432x288 with 1 Axes>"
      ]
     },
     "metadata": {
      "needs_background": "light"
     },
     "output_type": "display_data"
    }
   ],
   "source": [
    "plt.boxplot(traindata.i_d)"
   ]
  },
  {
   "cell_type": "code",
   "execution_count": 95,
   "metadata": {},
   "outputs": [
    {
     "data": {
      "text/plain": [
       "{'whiskers': [<matplotlib.lines.Line2D at 0x22c5db1c390>,\n",
       "  <matplotlib.lines.Line2D at 0x22c5db1c748>],\n",
       " 'caps': [<matplotlib.lines.Line2D at 0x22c5db1ca90>,\n",
       "  <matplotlib.lines.Line2D at 0x22c5db1cdd8>],\n",
       " 'boxes': [<matplotlib.lines.Line2D at 0x22c5db22f60>],\n",
       " 'medians': [<matplotlib.lines.Line2D at 0x22c5db1ceb8>],\n",
       " 'fliers': [<matplotlib.lines.Line2D at 0x22c5db4b4a8>],\n",
       " 'means': []}"
      ]
     },
     "execution_count": 95,
     "metadata": {},
     "output_type": "execute_result"
    },
    {
     "data": {
      "image/png": "[encoded data removed]",
      "text/plain": [
       "<Figure size 432x288 with 1 Axes>"
      ]
     },
     "metadata": {
      "needs_background": "light"
     },
     "output_type": "display_data"
    }
   ],
   "source": [
    "plt.boxplot(traindata.i_q)"
   ]
  },
  {
   "cell_type": "code",
   "execution_count": 96,
   "metadata": {},
   "outputs": [
    {
     "data": {
      "text/plain": [
       "{'whiskers': [<matplotlib.lines.Line2D at 0x22c04464eb8>,\n",
       "  <matplotlib.lines.Line2D at 0x22c04471550>],\n",
       " 'caps': [<matplotlib.lines.Line2D at 0x22c04471898>,\n",
       "  <matplotlib.lines.Line2D at 0x22c04471be0>],\n",
       " 'boxes': [<matplotlib.lines.Line2D at 0x22c04464d68>],\n",
       " 'medians': [<matplotlib.lines.Line2D at 0x22c04471f28>],\n",
       " 'fliers': [<matplotlib.lines.Line2D at 0x22c0447c2b0>],\n",
       " 'means': []}"
      ]
     },
     "execution_count": 96,
     "metadata": {},
     "output_type": "execute_result"
    },
    {
     "data": {
      "image/png": "[encoded data removed]",
      "text/plain": [
       "<Figure size 432x288 with 1 Axes>"
      ]
     },
     "metadata": {
      "needs_background": "light"
     },
     "output_type": "display_data"
    }
   ],
   "source": [
    "plt.boxplot(traindata.pm)"
   ]
  },
  {
   "cell_type": "code",
   "execution_count": 97,
   "metadata": {},
   "outputs": [
    {
     "data": {
      "text/plain": [
       "{'whiskers': [<matplotlib.lines.Line2D at 0x22c044c9a90>,\n",
       "  <matplotlib.lines.Line2D at 0x22c044c9e48>],\n",
       " 'caps': [<matplotlib.lines.Line2D at 0x22c044c9f28>,\n",
       "  <matplotlib.lines.Line2D at 0x22c044d4518>],\n",
       " 'boxes': [<matplotlib.lines.Line2D at 0x22c044c96a0>],\n",
       " 'medians': [<matplotlib.lines.Line2D at 0x22c044d4860>],\n",
       " 'fliers': [<matplotlib.lines.Line2D at 0x22c044d4ba8>],\n",
       " 'means': []}"
      ]
     },
     "execution_count": 97,
     "metadata": {},
     "output_type": "execute_result"
    },
    {
     "data": {
      "image/png": "[encoded data removed]",
      "text/plain": [
       "<Figure size 432x288 with 1 Axes>"
      ]
     },
     "metadata": {
      "needs_background": "light"
     },
     "output_type": "display_data"
    }
   ],
   "source": [
    "plt.boxplot(traindata.stator_yoke)"
   ]
  },
  {
   "cell_type": "code",
   "execution_count": 98,
   "metadata": {},
   "outputs": [
    {
     "data": {
      "text/plain": [
       "{'whiskers': [<matplotlib.lines.Line2D at 0x22c04523e48>,\n",
       "  <matplotlib.lines.Line2D at 0x22c04523f98>],\n",
       " 'caps': [<matplotlib.lines.Line2D at 0x22c04532588>,\n",
       "  <matplotlib.lines.Line2D at 0x22c045328d0>],\n",
       " 'boxes': [<matplotlib.lines.Line2D at 0x22c04523a58>],\n",
       " 'medians': [<matplotlib.lines.Line2D at 0x22c04532c18>],\n",
       " 'fliers': [<matplotlib.lines.Line2D at 0x22c04532f60>],\n",
       " 'means': []}"
      ]
     },
     "execution_count": 98,
     "metadata": {},
     "output_type": "execute_result"
    },
    {
     "data": {
      "image/png": "[encoded data removed]",
      "text/plain": [
       "<Figure size 432x288 with 1 Axes>"
      ]
     },
     "metadata": {
      "needs_background": "light"
     },
     "output_type": "display_data"
    }
   ],
   "source": [
    "plt.boxplot(traindata.stator_tooth)"
   ]
  },
  {
   "cell_type": "code",
   "execution_count": 99,
   "metadata": {},
   "outputs": [
    {
     "data": {
      "text/plain": [
       "{'whiskers': [<matplotlib.lines.Line2D at 0x22c08ec0f60>,\n",
       "  <matplotlib.lines.Line2D at 0x22c08ecf5f8>],\n",
       " 'caps': [<matplotlib.lines.Line2D at 0x22c08ecf940>,\n",
       "  <matplotlib.lines.Line2D at 0x22c08ecfc88>],\n",
       " 'boxes': [<matplotlib.lines.Line2D at 0x22c08ec0e10>],\n",
       " 'medians': [<matplotlib.lines.Line2D at 0x22c08ecffd0>],\n",
       " 'fliers': [<matplotlib.lines.Line2D at 0x22c08ed9358>],\n",
       " 'means': []}"
      ]
     },
     "execution_count": 99,
     "metadata": {},
     "output_type": "execute_result"
    },
    {
     "data": {
      "image/png": "[encoded data removed]",
      "text/plain": [
       "<Figure size 432x288 with 1 Axes>"
      ]
     },
     "metadata": {
      "needs_background": "light"
     },
     "output_type": "display_data"
    }
   ],
   "source": [
    "plt.boxplot(traindata.stator_winding)"
   ]
  },
  {
   "cell_type": "code",
   "execution_count": 6,
   "metadata": {},
   "outputs": [],
   "source": [
    "from sklearn.preprocessing import scale\n",
    "train_norm = pd.DataFrame(scale(traindata))"
   ]
  },
  {
   "cell_type": "code",
   "execution_count": 7,
   "metadata": {},
   "outputs": [],
   "source": [
    "train_norm.columns=traindata.columns"
   ]
  },
  {
   "cell_type": "code",
   "execution_count": 102,
   "metadata": {},
   "outputs": [
    {
     "data": {
      "text/html": [
       "<div>\n",
       "<style scoped>\n",
       "    .dataframe tbody tr th:only-of-type {\n",
       "        vertical-align: middle;\n",
       "    }\n",
       "\n",
       "    .dataframe tbody tr th {\n",
       "        vertical-align: top;\n",
       "    }\n",
       "\n",
       "    .dataframe thead th {\n",
       "        text-align: right;\n",
       "    }\n",
       "</style>\n",
       "<table border=\"1\" class=\"dataframe\">\n",
       "  <thead>\n",
       "    <tr style=\"text-align: right;\">\n",
       "      <th></th>\n",
       "      <th>ambient</th>\n",
       "      <th>coolant</th>\n",
       "      <th>u_d</th>\n",
       "      <th>u_q</th>\n",
       "      <th>motor_speed</th>\n",
       "      <th>torque</th>\n",
       "      <th>i_d</th>\n",
       "      <th>i_q</th>\n",
       "      <th>pm</th>\n",
       "      <th>stator_yoke</th>\n",
       "      <th>stator_tooth</th>\n",
       "      <th>stator_winding</th>\n",
       "    </tr>\n",
       "  </thead>\n",
       "  <tbody>\n",
       "    <tr>\n",
       "      <th>0</th>\n",
       "      <td>-0.754516</td>\n",
       "      <td>-1.120888</td>\n",
       "      <td>0.324398</td>\n",
       "      <td>-1.288941</td>\n",
       "      <td>-1.214340</td>\n",
       "      <td>-0.247841</td>\n",
       "      <td>1.024799</td>\n",
       "      <td>-0.243691</td>\n",
       "      <td>-2.529196</td>\n",
       "      <td>-1.829997</td>\n",
       "      <td>-2.064486</td>\n",
       "      <td>-2.017188</td>\n",
       "    </tr>\n",
       "    <tr>\n",
       "      <th>1</th>\n",
       "      <td>-0.785490</td>\n",
       "      <td>-1.119127</td>\n",
       "      <td>0.329245</td>\n",
       "      <td>-1.292896</td>\n",
       "      <td>-1.214340</td>\n",
       "      <td>-0.247088</td>\n",
       "      <td>1.024674</td>\n",
       "      <td>-0.243648</td>\n",
       "      <td>-2.529801</td>\n",
       "      <td>-1.828977</td>\n",
       "      <td>-2.062416</td>\n",
       "      <td>-2.016498</td>\n",
       "    </tr>\n",
       "    <tr>\n",
       "      <th>2</th>\n",
       "      <td>-0.783519</td>\n",
       "      <td>-1.119210</td>\n",
       "      <td>0.330175</td>\n",
       "      <td>-1.292926</td>\n",
       "      <td>-1.214342</td>\n",
       "      <td>-0.246291</td>\n",
       "      <td>1.028074</td>\n",
       "      <td>-0.244788</td>\n",
       "      <td>-2.528762</td>\n",
       "      <td>-1.828910</td>\n",
       "      <td>-2.061479</td>\n",
       "      <td>-2.016787</td>\n",
       "    </tr>\n",
       "    <tr>\n",
       "      <th>3</th>\n",
       "      <td>-0.776576</td>\n",
       "      <td>-1.119221</td>\n",
       "      <td>0.331685</td>\n",
       "      <td>-1.294189</td>\n",
       "      <td>-1.214341</td>\n",
       "      <td>-0.246356</td>\n",
       "      <td>1.027036</td>\n",
       "      <td>-0.244442</td>\n",
       "      <td>-2.529024</td>\n",
       "      <td>-1.829074</td>\n",
       "      <td>-2.061137</td>\n",
       "      <td>-2.017300</td>\n",
       "    </tr>\n",
       "    <tr>\n",
       "      <th>4</th>\n",
       "      <td>-0.765388</td>\n",
       "      <td>-1.119400</td>\n",
       "      <td>0.331380</td>\n",
       "      <td>-1.294088</td>\n",
       "      <td>-1.214341</td>\n",
       "      <td>-0.245851</td>\n",
       "      <td>1.026259</td>\n",
       "      <td>-0.244173</td>\n",
       "      <td>-2.529328</td>\n",
       "      <td>-1.830506</td>\n",
       "      <td>-2.060892</td>\n",
       "      <td>-2.017039</td>\n",
       "    </tr>\n",
       "    <tr>\n",
       "      <th>5</th>\n",
       "      <td>-0.740722</td>\n",
       "      <td>-1.116438</td>\n",
       "      <td>0.332738</td>\n",
       "      <td>-1.296221</td>\n",
       "      <td>-1.214344</td>\n",
       "      <td>-0.245975</td>\n",
       "      <td>1.025334</td>\n",
       "      <td>-0.243866</td>\n",
       "      <td>-2.529972</td>\n",
       "      <td>-1.830757</td>\n",
       "      <td>-2.060295</td>\n",
       "      <td>-2.016367</td>\n",
       "    </tr>\n",
       "    <tr>\n",
       "      <th>6</th>\n",
       "      <td>-0.729318</td>\n",
       "      <td>-1.111947</td>\n",
       "      <td>0.332469</td>\n",
       "      <td>-1.296698</td>\n",
       "      <td>-1.214343</td>\n",
       "      <td>-0.245948</td>\n",
       "      <td>1.024862</td>\n",
       "      <td>-0.243718</td>\n",
       "      <td>-2.529804</td>\n",
       "      <td>-1.830014</td>\n",
       "      <td>-2.060659</td>\n",
       "      <td>-2.017335</td>\n",
       "    </tr>\n",
       "    <tr>\n",
       "      <th>7</th>\n",
       "      <td>-0.706902</td>\n",
       "      <td>-1.112445</td>\n",
       "      <td>0.332723</td>\n",
       "      <td>-1.296884</td>\n",
       "      <td>-1.214346</td>\n",
       "      <td>-0.245655</td>\n",
       "      <td>1.024544</td>\n",
       "      <td>-0.243610</td>\n",
       "      <td>-2.529340</td>\n",
       "      <td>-1.830627</td>\n",
       "      <td>-2.060461</td>\n",
       "      <td>-2.016744</td>\n",
       "    </tr>\n",
       "    <tr>\n",
       "      <th>8</th>\n",
       "      <td>-0.684396</td>\n",
       "      <td>-1.113819</td>\n",
       "      <td>0.332045</td>\n",
       "      <td>-1.294310</td>\n",
       "      <td>-1.214342</td>\n",
       "      <td>-0.245164</td>\n",
       "      <td>1.024500</td>\n",
       "      <td>-0.243606</td>\n",
       "      <td>-2.529050</td>\n",
       "      <td>-1.830605</td>\n",
       "      <td>-2.060098</td>\n",
       "      <td>-2.016411</td>\n",
       "    </tr>\n",
       "    <tr>\n",
       "      <th>9</th>\n",
       "      <td>-0.621502</td>\n",
       "      <td>-1.116736</td>\n",
       "      <td>0.332390</td>\n",
       "      <td>-1.296740</td>\n",
       "      <td>-1.214342</td>\n",
       "      <td>-0.245537</td>\n",
       "      <td>1.024437</td>\n",
       "      <td>-0.243560</td>\n",
       "      <td>-2.529436</td>\n",
       "      <td>-1.830354</td>\n",
       "      <td>-2.059673</td>\n",
       "      <td>-2.016787</td>\n",
       "    </tr>\n",
       "  </tbody>\n",
       "</table>\n",
       "</div>"
      ],
      "text/plain": [
       "    ambient   coolant       u_d       u_q  motor_speed    torque       i_d  \\\n",
       "0 -0.754516 -1.120888  0.324398 -1.288941    -1.214340 -0.247841  1.024799   \n",
       "1 -0.785490 -1.119127  0.329245 -1.292896    -1.214340 -0.247088  1.024674   \n",
       "2 -0.783519 -1.119210  0.330175 -1.292926    -1.214342 -0.246291  1.028074   \n",
       "3 -0.776576 -1.119221  0.331685 -1.294189    -1.214341 -0.246356  1.027036   \n",
       "4 -0.765388 -1.119400  0.331380 -1.294088    -1.214341 -0.245851  1.026259   \n",
       "5 -0.740722 -1.116438  0.332738 -1.296221    -1.214344 -0.245975  1.025334   \n",
       "6 -0.729318 -1.111947  0.332469 -1.296698    -1.214343 -0.245948  1.024862   \n",
       "7 -0.706902 -1.112445  0.332723 -1.296884    -1.214346 -0.245655  1.024544   \n",
       "8 -0.684396 -1.113819  0.332045 -1.294310    -1.214342 -0.245164  1.024500   \n",
       "9 -0.621502 -1.116736  0.332390 -1.296740    -1.214342 -0.245537  1.024437   \n",
       "\n",
       "        i_q        pm  stator_yoke  stator_tooth  stator_winding  \n",
       "0 -0.243691 -2.529196    -1.829997     -2.064486       -2.017188  \n",
       "1 -0.243648 -2.529801    -1.828977     -2.062416       -2.016498  \n",
       "2 -0.244788 -2.528762    -1.828910     -2.061479       -2.016787  \n",
       "3 -0.244442 -2.529024    -1.829074     -2.061137       -2.017300  \n",
       "4 -0.244173 -2.529328    -1.830506     -2.060892       -2.017039  \n",
       "5 -0.243866 -2.529972    -1.830757     -2.060295       -2.016367  \n",
       "6 -0.243718 -2.529804    -1.830014     -2.060659       -2.017335  \n",
       "7 -0.243610 -2.529340    -1.830627     -2.060461       -2.016744  \n",
       "8 -0.243606 -2.529050    -1.830605     -2.060098       -2.016411  \n",
       "9 -0.243560 -2.529436    -1.830354     -2.059673       -2.016787  "
      ]
     },
     "execution_count": 102,
     "metadata": {},
     "output_type": "execute_result"
    }
   ],
   "source": [
    "train_norm.head(10)"
   ]
  },
  {
   "cell_type": "code",
   "execution_count": 104,
   "metadata": {},
   "outputs": [
    {
     "data": {
      "text/plain": [
       "<matplotlib.axes._subplots.AxesSubplot at 0x22c08ef6828>"
      ]
     },
     "execution_count": 104,
     "metadata": {},
     "output_type": "execute_result"
    },
    {
     "data": {
      "image/png": "[encoded data removed]",
      "text/plain": [
       "<Figure size 1080x360 with 1 Axes>"
      ]
     },
     "metadata": {
      "needs_background": "light"
     },
     "output_type": "display_data"
    }
   ],
   "source": [
    "plt.figure(figsize=(15, 5))\n",
    "sns.boxplot(data=train_norm)"
   ]
  },
  {
   "cell_type": "code",
   "execution_count": 105,
   "metadata": {},
   "outputs": [
    {
     "data": {
      "image/png": "[encoded data removed]",
      "text/plain": [
       "<Figure size 1440x1440 with 12 Axes>"
      ]
     },
     "metadata": {
      "needs_background": "light"
     },
     "output_type": "display_data"
    }
   ],
   "source": [
    "train_norm.hist(figsize = (20,20))\n",
    "plt.show()"
   ]
  },
  {
   "cell_type": "code",
   "execution_count": 106,
   "metadata": {},
   "outputs": [
    {
     "data": {
      "text/html": [
       "<div>\n",
       "<style scoped>\n",
       "    .dataframe tbody tr th:only-of-type {\n",
       "        vertical-align: middle;\n",
       "    }\n",
       "\n",
       "    .dataframe tbody tr th {\n",
       "        vertical-align: top;\n",
       "    }\n",
       "\n",
       "    .dataframe thead th {\n",
       "        text-align: right;\n",
       "    }\n",
       "</style>\n",
       "<table border=\"1\" class=\"dataframe\">\n",
       "  <thead>\n",
       "    <tr style=\"text-align: right;\">\n",
       "      <th></th>\n",
       "      <th>ambient</th>\n",
       "      <th>coolant</th>\n",
       "      <th>u_d</th>\n",
       "      <th>u_q</th>\n",
       "      <th>motor_speed</th>\n",
       "      <th>torque</th>\n",
       "      <th>i_d</th>\n",
       "      <th>i_q</th>\n",
       "      <th>pm</th>\n",
       "      <th>stator_yoke</th>\n",
       "      <th>stator_tooth</th>\n",
       "      <th>stator_winding</th>\n",
       "    </tr>\n",
       "  </thead>\n",
       "  <tbody>\n",
       "    <tr>\n",
       "      <th>0</th>\n",
       "      <td>-0.754516</td>\n",
       "      <td>-1.120888</td>\n",
       "      <td>0.324398</td>\n",
       "      <td>-1.288941</td>\n",
       "      <td>-1.214340</td>\n",
       "      <td>-0.247841</td>\n",
       "      <td>1.024799</td>\n",
       "      <td>-0.243691</td>\n",
       "      <td>-2.529196</td>\n",
       "      <td>-1.829997</td>\n",
       "      <td>-2.064486</td>\n",
       "      <td>-2.017188</td>\n",
       "    </tr>\n",
       "    <tr>\n",
       "      <th>1</th>\n",
       "      <td>-0.785490</td>\n",
       "      <td>-1.119127</td>\n",
       "      <td>0.329245</td>\n",
       "      <td>-1.292896</td>\n",
       "      <td>-1.214340</td>\n",
       "      <td>-0.247088</td>\n",
       "      <td>1.024674</td>\n",
       "      <td>-0.243648</td>\n",
       "      <td>-2.529801</td>\n",
       "      <td>-1.828977</td>\n",
       "      <td>-2.062416</td>\n",
       "      <td>-2.016498</td>\n",
       "    </tr>\n",
       "    <tr>\n",
       "      <th>2</th>\n",
       "      <td>-0.783519</td>\n",
       "      <td>-1.119210</td>\n",
       "      <td>0.330175</td>\n",
       "      <td>-1.292926</td>\n",
       "      <td>-1.214342</td>\n",
       "      <td>-0.246291</td>\n",
       "      <td>1.028074</td>\n",
       "      <td>-0.244788</td>\n",
       "      <td>-2.528762</td>\n",
       "      <td>-1.828910</td>\n",
       "      <td>-2.061479</td>\n",
       "      <td>-2.016787</td>\n",
       "    </tr>\n",
       "    <tr>\n",
       "      <th>3</th>\n",
       "      <td>-0.776576</td>\n",
       "      <td>-1.119221</td>\n",
       "      <td>0.331685</td>\n",
       "      <td>-1.294189</td>\n",
       "      <td>-1.214341</td>\n",
       "      <td>-0.246356</td>\n",
       "      <td>1.027036</td>\n",
       "      <td>-0.244442</td>\n",
       "      <td>-2.529024</td>\n",
       "      <td>-1.829074</td>\n",
       "      <td>-2.061137</td>\n",
       "      <td>-2.017300</td>\n",
       "    </tr>\n",
       "    <tr>\n",
       "      <th>4</th>\n",
       "      <td>-0.765388</td>\n",
       "      <td>-1.119400</td>\n",
       "      <td>0.331380</td>\n",
       "      <td>-1.294088</td>\n",
       "      <td>-1.214341</td>\n",
       "      <td>-0.245851</td>\n",
       "      <td>1.026259</td>\n",
       "      <td>-0.244173</td>\n",
       "      <td>-2.529328</td>\n",
       "      <td>-1.830506</td>\n",
       "      <td>-2.060892</td>\n",
       "      <td>-2.017039</td>\n",
       "    </tr>\n",
       "    <tr>\n",
       "      <th>5</th>\n",
       "      <td>-0.740722</td>\n",
       "      <td>-1.116438</td>\n",
       "      <td>0.332738</td>\n",
       "      <td>-1.296221</td>\n",
       "      <td>-1.214344</td>\n",
       "      <td>-0.245975</td>\n",
       "      <td>1.025334</td>\n",
       "      <td>-0.243866</td>\n",
       "      <td>-2.529972</td>\n",
       "      <td>-1.830757</td>\n",
       "      <td>-2.060295</td>\n",
       "      <td>-2.016367</td>\n",
       "    </tr>\n",
       "    <tr>\n",
       "      <th>6</th>\n",
       "      <td>-0.729318</td>\n",
       "      <td>-1.111947</td>\n",
       "      <td>0.332469</td>\n",
       "      <td>-1.296698</td>\n",
       "      <td>-1.214343</td>\n",
       "      <td>-0.245948</td>\n",
       "      <td>1.024862</td>\n",
       "      <td>-0.243718</td>\n",
       "      <td>-2.529804</td>\n",
       "      <td>-1.830014</td>\n",
       "      <td>-2.060659</td>\n",
       "      <td>-2.017335</td>\n",
       "    </tr>\n",
       "    <tr>\n",
       "      <th>7</th>\n",
       "      <td>-0.706902</td>\n",
       "      <td>-1.112445</td>\n",
       "      <td>0.332723</td>\n",
       "      <td>-1.296884</td>\n",
       "      <td>-1.214346</td>\n",
       "      <td>-0.245655</td>\n",
       "      <td>1.024544</td>\n",
       "      <td>-0.243610</td>\n",
       "      <td>-2.529340</td>\n",
       "      <td>-1.830627</td>\n",
       "      <td>-2.060461</td>\n",
       "      <td>-2.016744</td>\n",
       "    </tr>\n",
       "    <tr>\n",
       "      <th>8</th>\n",
       "      <td>-0.684396</td>\n",
       "      <td>-1.113819</td>\n",
       "      <td>0.332045</td>\n",
       "      <td>-1.294310</td>\n",
       "      <td>-1.214342</td>\n",
       "      <td>-0.245164</td>\n",
       "      <td>1.024500</td>\n",
       "      <td>-0.243606</td>\n",
       "      <td>-2.529050</td>\n",
       "      <td>-1.830605</td>\n",
       "      <td>-2.060098</td>\n",
       "      <td>-2.016411</td>\n",
       "    </tr>\n",
       "    <tr>\n",
       "      <th>9</th>\n",
       "      <td>-0.621502</td>\n",
       "      <td>-1.116736</td>\n",
       "      <td>0.332390</td>\n",
       "      <td>-1.296740</td>\n",
       "      <td>-1.214342</td>\n",
       "      <td>-0.245537</td>\n",
       "      <td>1.024437</td>\n",
       "      <td>-0.243560</td>\n",
       "      <td>-2.529436</td>\n",
       "      <td>-1.830354</td>\n",
       "      <td>-2.059673</td>\n",
       "      <td>-2.016787</td>\n",
       "    </tr>\n",
       "  </tbody>\n",
       "</table>\n",
       "</div>"
      ],
      "text/plain": [
       "    ambient   coolant       u_d       u_q  motor_speed    torque       i_d  \\\n",
       "0 -0.754516 -1.120888  0.324398 -1.288941    -1.214340 -0.247841  1.024799   \n",
       "1 -0.785490 -1.119127  0.329245 -1.292896    -1.214340 -0.247088  1.024674   \n",
       "2 -0.783519 -1.119210  0.330175 -1.292926    -1.214342 -0.246291  1.028074   \n",
       "3 -0.776576 -1.119221  0.331685 -1.294189    -1.214341 -0.246356  1.027036   \n",
       "4 -0.765388 -1.119400  0.331380 -1.294088    -1.214341 -0.245851  1.026259   \n",
       "5 -0.740722 -1.116438  0.332738 -1.296221    -1.214344 -0.245975  1.025334   \n",
       "6 -0.729318 -1.111947  0.332469 -1.296698    -1.214343 -0.245948  1.024862   \n",
       "7 -0.706902 -1.112445  0.332723 -1.296884    -1.214346 -0.245655  1.024544   \n",
       "8 -0.684396 -1.113819  0.332045 -1.294310    -1.214342 -0.245164  1.024500   \n",
       "9 -0.621502 -1.116736  0.332390 -1.296740    -1.214342 -0.245537  1.024437   \n",
       "\n",
       "        i_q        pm  stator_yoke  stator_tooth  stator_winding  \n",
       "0 -0.243691 -2.529196    -1.829997     -2.064486       -2.017188  \n",
       "1 -0.243648 -2.529801    -1.828977     -2.062416       -2.016498  \n",
       "2 -0.244788 -2.528762    -1.828910     -2.061479       -2.016787  \n",
       "3 -0.244442 -2.529024    -1.829074     -2.061137       -2.017300  \n",
       "4 -0.244173 -2.529328    -1.830506     -2.060892       -2.017039  \n",
       "5 -0.243866 -2.529972    -1.830757     -2.060295       -2.016367  \n",
       "6 -0.243718 -2.529804    -1.830014     -2.060659       -2.017335  \n",
       "7 -0.243610 -2.529340    -1.830627     -2.060461       -2.016744  \n",
       "8 -0.243606 -2.529050    -1.830605     -2.060098       -2.016411  \n",
       "9 -0.243560 -2.529436    -1.830354     -2.059673       -2.016787  "
      ]
     },
     "execution_count": 106,
     "metadata": {},
     "output_type": "execute_result"
    }
   ],
   "source": [
    "train_norm.head(10)"
   ]
  },
  {
   "cell_type": "code",
   "execution_count": 107,
   "metadata": {},
   "outputs": [
    {
     "data": {
      "text/plain": [
       "Text(0, 0.5, 'pm')"
      ]
     },
     "execution_count": 107,
     "metadata": {},
     "output_type": "execute_result"
    },
    {
     "data": {
      "image/png": "[encoded data removed]",
      "text/plain": [
       "<Figure size 432x288 with 1 Axes>"
      ]
     },
     "metadata": {
      "needs_background": "light"
     },
     "output_type": "display_data"
    }
   ],
   "source": [
    "#finding dependency between variables using scatter plot\n",
    "plt.plot(train_norm.ambient,traindata[\"pm\"],\"ro\");plt.xlabel(\"ambient\");plt.ylabel(\"pm\")"
   ]
  },
  {
   "cell_type": "code",
   "execution_count": 108,
   "metadata": {},
   "outputs": [
    {
     "data": {
      "text/plain": [
       "Text(0, 0.5, 'pm')"
      ]
     },
     "execution_count": 108,
     "metadata": {},
     "output_type": "execute_result"
    },
    {
     "data": {
      "image/png": "[encoded data removed]",
      "text/plain": [
       "<Figure size 432x288 with 1 Axes>"
      ]
     },
     "metadata": {
      "needs_background": "light"
     },
     "output_type": "display_data"
    }
   ],
   "source": [
    "plt.plot(train_norm.coolant,traindata[\"pm\"],\"ro\");plt.xlabel(\"coolant\");plt.ylabel(\"pm\")"
   ]
  },
  {
   "cell_type": "code",
   "execution_count": 109,
   "metadata": {},
   "outputs": [
    {
     "data": {
      "text/plain": [
       "Text(0, 0.5, 'pm')"
      ]
     },
     "execution_count": 109,
     "metadata": {},
     "output_type": "execute_result"
    },
    {
     "data": {
      "image/png": "[encoded data removed]",
      "text/plain": [
       "<Figure size 432x288 with 1 Axes>"
      ]
     },
     "metadata": {
      "needs_background": "light"
     },
     "output_type": "display_data"
    }
   ],
   "source": [
    "plt.plot(train_norm.u_d,traindata[\"pm\"],\"ro\");plt.xlabel(\"u_d\");plt.ylabel(\"pm\")"
   ]
  },
  {
   "cell_type": "code",
   "execution_count": 110,
   "metadata": {},
   "outputs": [
    {
     "data": {
      "text/plain": [
       "Text(0, 0.5, 'pm')"
      ]
     },
     "execution_count": 110,
     "metadata": {},
     "output_type": "execute_result"
    },
    {
     "data": {
      "image/png": "[encoded data removed]",
      "text/plain": [
       "<Figure size 432x288 with 1 Axes>"
      ]
     },
     "metadata": {
      "needs_background": "light"
     },
     "output_type": "display_data"
    }
   ],
   "source": [
    "plt.plot(train_norm.u_q,traindata[\"pm\"],\"ro\");plt.xlabel(\"u_q\");plt.ylabel(\"pm\")"
   ]
  },
  {
   "cell_type": "code",
   "execution_count": 111,
   "metadata": {},
   "outputs": [
    {
     "data": {
      "text/plain": [
       "Text(0, 0.5, 'pm')"
      ]
     },
     "execution_count": 111,
     "metadata": {},
     "output_type": "execute_result"
    },
    {
     "data": {
      "image/png": "[encoded data removed]",
      "text/plain": [
       "<Figure size 432x288 with 1 Axes>"
      ]
     },
     "metadata": {
      "needs_background": "light"
     },
     "output_type": "display_data"
    }
   ],
   "source": [
    "plt.plot(train_norm.motor_speed,traindata[\"pm\"],\"ro\");plt.xlabel(\"motor_speed\");plt.ylabel(\"pm\")"
   ]
  },
  {
   "cell_type": "code",
   "execution_count": 112,
   "metadata": {},
   "outputs": [
    {
     "data": {
      "text/plain": [
       "Text(0, 0.5, 'pm')"
      ]
     },
     "execution_count": 112,
     "metadata": {},
     "output_type": "execute_result"
    },
    {
     "data": {
      "image/png": "[encoded data removed]",
      "text/plain": [
       "<Figure size 432x288 with 1 Axes>"
      ]
     },
     "metadata": {
      "needs_background": "light"
     },
     "output_type": "display_data"
    }
   ],
   "source": [
    "plt.plot(train_norm.torque,traindata[\"pm\"],\"ro\");plt.xlabel(\"torque\");plt.ylabel(\"pm\")"
   ]
  },
  {
   "cell_type": "code",
   "execution_count": 113,
   "metadata": {},
   "outputs": [
    {
     "data": {
      "text/plain": [
       "Text(0, 0.5, 'pm')"
      ]
     },
     "execution_count": 113,
     "metadata": {},
     "output_type": "execute_result"
    },
    {
     "data": {
      "image/png": "[encoded data removed]",
      "text/plain": [
       "<Figure size 432x288 with 1 Axes>"
      ]
     },
     "metadata": {
      "needs_background": "light"
     },
     "output_type": "display_data"
    }
   ],
   "source": [
    "plt.plot(train_norm.i_d,traindata[\"pm\"],\"ro\");plt.xlabel(\"i_d\");plt.ylabel(\"pm\")"
   ]
  },
  {
   "cell_type": "code",
   "execution_count": 114,
   "metadata": {},
   "outputs": [
    {
     "data": {
      "text/plain": [
       "Text(0, 0.5, 'pm')"
      ]
     },
     "execution_count": 114,
     "metadata": {},
     "output_type": "execute_result"
    },
    {
     "data": {
      "image/png": "[encoded data removed]",
      "text/plain": [
       "<Figure size 432x288 with 1 Axes>"
      ]
     },
     "metadata": {
      "needs_background": "light"
     },
     "output_type": "display_data"
    }
   ],
   "source": [
    "plt.plot(train_norm.i_q,traindata[\"pm\"],\"ro\");plt.xlabel(\"i_q\");plt.ylabel(\"pm\")"
   ]
  },
  {
   "cell_type": "code",
   "execution_count": 115,
   "metadata": {},
   "outputs": [
    {
     "data": {
      "text/plain": [
       "Text(0, 0.5, 'pm')"
      ]
     },
     "execution_count": 115,
     "metadata": {},
     "output_type": "execute_result"
    },
    {
     "data": {
      "image/png": "[encoded data removed]",
      "text/plain": [
       "<Figure size 432x288 with 1 Axes>"
      ]
     },
     "metadata": {
      "needs_background": "light"
     },
     "output_type": "display_data"
    }
   ],
   "source": [
    "plt.plot(train_norm.stator_yoke,traindata[\"pm\"],\"ro\");plt.xlabel(\"stator_yoke\");plt.ylabel(\"pm\")"
   ]
  },
  {
   "cell_type": "code",
   "execution_count": 116,
   "metadata": {},
   "outputs": [
    {
     "data": {
      "text/plain": [
       "Text(0, 0.5, 'pm')"
      ]
     },
     "execution_count": 116,
     "metadata": {},
     "output_type": "execute_result"
    },
    {
     "data": {
      "image/png": "[encoded data removed]",
      "text/plain": [
       "<Figure size 432x288 with 1 Axes>"
      ]
     },
     "metadata": {
      "needs_background": "light"
     },
     "output_type": "display_data"
    }
   ],
   "source": [
    "plt.plot(train_norm.stator_tooth,traindata[\"pm\"],\"ro\");plt.xlabel(\"stator_tooth\");plt.ylabel(\"pm\")"
   ]
  },
  {
   "cell_type": "code",
   "execution_count": 117,
   "metadata": {},
   "outputs": [
    {
     "data": {
      "text/plain": [
       "Text(0, 0.5, 'pm')"
      ]
     },
     "execution_count": 117,
     "metadata": {},
     "output_type": "execute_result"
    },
    {
     "data": {
      "image/png": "[encoded data removed]",
      "text/plain": [
       "<Figure size 432x288 with 1 Axes>"
      ]
     },
     "metadata": {
      "needs_background": "light"
     },
     "output_type": "display_data"
    }
   ],
   "source": [
    "plt.plot(train_norm.stator_winding,traindata[\"pm\"],\"ro\");plt.xlabel(\"stator_winding\");plt.ylabel(\"pm\")"
   ]
  },
  {
   "cell_type": "code",
   "execution_count": 8,
   "metadata": {},
   "outputs": [
    {
     "name": "stdout",
     "output_type": "stream",
     "text": [
      "[[0.75451553 1.12088827 0.32439766 ... 1.82999731 2.06448615 2.01718768]\n",
      " [0.78549003 1.11912714 0.32924497 ... 1.82897676 2.0624158  2.0164975 ]\n",
      " [0.78351938 1.11920987 0.33017548 ... 1.82890963 2.06147934 2.01678665]\n",
      " ...\n",
      " [0.04604644 0.31458683 0.32817233 ... 1.01166175 0.83687477 0.49904405]\n",
      " [0.03950957 0.30200606 0.32741501 ... 1.0011635  0.83637274 0.49742853]\n",
      " [0.04097266 0.30724604 0.32729855 ... 0.98543759 0.83048115 0.49413981]]\n"
     ]
    }
   ],
   "source": [
    "from scipy import stats\n",
    "z = np.abs(stats.zscore(train_norm))\n",
    "print(z)"
   ]
  },
  {
   "cell_type": "code",
   "execution_count": 9,
   "metadata": {},
   "outputs": [
    {
     "name": "stdout",
     "output_type": "stream",
     "text": [
      "(array([ 25398,  45234,  45235, ..., 695888, 695888, 695889], dtype=int64), array([0, 6, 6, ..., 5, 7, 7], dtype=int64))\n"
     ]
    }
   ],
   "source": [
    "threshold = 3\n",
    "print(np.where(z>3))"
   ]
  },
  {
   "cell_type": "code",
   "execution_count": 10,
   "metadata": {},
   "outputs": [],
   "source": [
    "train_nout=train_norm[(z<3).all(axis=1)]"
   ]
  },
  {
   "cell_type": "code",
   "execution_count": 11,
   "metadata": {},
   "outputs": [
    {
     "data": {
      "text/plain": [
       "(698649, 12)"
      ]
     },
     "execution_count": 11,
     "metadata": {},
     "output_type": "execute_result"
    }
   ],
   "source": [
    "np.shape(train_norm)"
   ]
  },
  {
   "cell_type": "code",
   "execution_count": 12,
   "metadata": {},
   "outputs": [
    {
     "data": {
      "text/plain": [
       "(693061, 12)"
      ]
     },
     "execution_count": 12,
     "metadata": {},
     "output_type": "execute_result"
    }
   ],
   "source": [
    "np.shape(train_nout)"
   ]
  },
  {
   "cell_type": "code",
   "execution_count": 13,
   "metadata": {},
   "outputs": [
    {
     "name": "stdout",
     "output_type": "stream",
     "text": [
      "ambient           1.294315\n",
      "coolant           1.682830\n",
      "u_d               1.188792\n",
      "u_q               1.776402\n",
      "motor_speed       1.804236\n",
      "torque            0.816182\n",
      "i_d               1.772493\n",
      "i_q               0.758884\n",
      "pm                1.358233\n",
      "stator_yoke       1.442892\n",
      "stator_tooth      1.534712\n",
      "stator_winding    1.453123\n",
      "dtype: float64\n"
     ]
    }
   ],
   "source": [
    "q1=train_norm.quantile(0.25)\n",
    "q3=train_norm.quantile(0.75)\n",
    "IQR=q3-q1\n",
    "print(IQR)"
   ]
  },
  {
   "cell_type": "code",
   "execution_count": 14,
   "metadata": {},
   "outputs": [
    {
     "name": "stdout",
     "output_type": "stream",
     "text": [
      "        ambient  coolant    u_d    u_q  motor_speed  torque    i_d    i_q  \\\n",
      "0         False    False  False  False        False   False  False  False   \n",
      "1         False    False  False  False        False   False  False  False   \n",
      "2         False    False  False  False        False   False  False  False   \n",
      "3         False    False  False  False        False   False  False  False   \n",
      "4         False    False  False  False        False   False  False  False   \n",
      "5         False    False  False  False        False   False  False  False   \n",
      "6         False    False  False  False        False   False  False  False   \n",
      "7         False    False  False  False        False   False  False  False   \n",
      "8         False    False  False  False        False   False  False  False   \n",
      "9         False    False  False  False        False   False  False  False   \n",
      "10        False    False  False  False        False   False  False  False   \n",
      "11        False    False  False  False        False   False  False  False   \n",
      "12        False    False  False  False        False   False  False  False   \n",
      "13        False    False  False  False        False   False  False  False   \n",
      "14        False    False  False  False        False   False  False  False   \n",
      "15        False    False  False  False        False   False  False  False   \n",
      "16        False    False  False  False        False   False  False  False   \n",
      "17        False    False  False  False        False   False  False  False   \n",
      "18        False    False  False  False        False   False  False  False   \n",
      "19        False    False  False  False        False   False  False  False   \n",
      "20        False    False  False  False        False   False  False  False   \n",
      "21        False    False  False  False        False   False  False  False   \n",
      "22        False    False  False  False        False   False  False  False   \n",
      "23        False    False  False  False        False   False  False  False   \n",
      "24        False    False  False  False        False   False  False  False   \n",
      "25        False    False  False  False        False   False  False  False   \n",
      "26        False    False  False  False        False   False  False  False   \n",
      "27        False    False  False  False        False   False  False  False   \n",
      "28        False    False  False  False        False   False  False  False   \n",
      "29        False    False  False  False        False   False  False  False   \n",
      "...         ...      ...    ...    ...          ...     ...    ...    ...   \n",
      "698619    False    False  False  False        False   False  False  False   \n",
      "698620    False    False  False  False        False   False  False  False   \n",
      "698621    False    False  False  False        False   False  False  False   \n",
      "698622    False    False  False  False        False   False  False  False   \n",
      "698623    False    False  False  False        False   False  False  False   \n",
      "698624    False    False  False  False        False   False  False  False   \n",
      "698625    False    False  False  False        False   False  False  False   \n",
      "698626    False    False  False  False        False   False  False  False   \n",
      "698627    False    False  False  False        False   False  False  False   \n",
      "698628    False    False  False  False        False   False  False  False   \n",
      "698629    False    False  False  False        False   False  False  False   \n",
      "698630    False    False  False  False        False   False  False  False   \n",
      "698631    False    False  False  False        False   False  False  False   \n",
      "698632    False    False  False  False        False   False  False  False   \n",
      "698633    False    False  False  False        False   False  False  False   \n",
      "698634    False    False  False  False        False   False  False  False   \n",
      "698635    False    False  False  False        False   False  False  False   \n",
      "698636    False    False  False  False        False   False  False  False   \n",
      "698637    False    False  False  False        False   False  False  False   \n",
      "698638    False    False  False  False        False   False  False  False   \n",
      "698639    False    False  False  False        False   False  False  False   \n",
      "698640    False    False  False  False        False   False  False  False   \n",
      "698641    False    False  False  False        False   False  False  False   \n",
      "698642    False    False  False  False        False   False  False  False   \n",
      "698643    False    False  False  False        False   False  False  False   \n",
      "698644    False    False  False  False        False   False  False  False   \n",
      "698645    False    False  False  False        False   False  False  False   \n",
      "698646    False    False  False  False        False   False  False  False   \n",
      "698647    False    False  False  False        False   False  False  False   \n",
      "698648    False    False  False  False        False   False  False  False   \n",
      "\n",
      "           pm  stator_yoke  stator_tooth  stator_winding  \n",
      "0       False        False         False           False  \n",
      "1       False        False         False           False  \n",
      "2       False        False         False           False  \n",
      "3       False        False         False           False  \n",
      "4       False        False         False           False  \n",
      "5       False        False         False           False  \n",
      "6       False        False         False           False  \n",
      "7       False        False         False           False  \n",
      "8       False        False         False           False  \n",
      "9       False        False         False           False  \n",
      "10      False        False         False           False  \n",
      "11      False        False         False           False  \n",
      "12      False        False         False           False  \n",
      "13      False        False         False           False  \n",
      "14      False        False         False           False  \n",
      "15      False        False         False           False  \n",
      "16      False        False         False           False  \n",
      "17      False        False         False           False  \n",
      "18      False        False         False           False  \n",
      "19      False        False         False           False  \n",
      "20      False        False         False           False  \n",
      "21      False        False         False           False  \n",
      "22      False        False         False           False  \n",
      "23      False        False         False           False  \n",
      "24      False        False         False           False  \n",
      "25      False        False         False           False  \n",
      "26      False        False         False           False  \n",
      "27      False        False         False           False  \n",
      "28      False        False         False           False  \n",
      "29      False        False         False           False  \n",
      "...       ...          ...           ...             ...  \n",
      "698619  False        False         False           False  \n",
      "698620  False        False         False           False  \n",
      "698621  False        False         False           False  \n",
      "698622  False        False         False           False  \n",
      "698623  False        False         False           False  \n",
      "698624  False        False         False           False  \n",
      "698625  False        False         False           False  \n",
      "698626  False        False         False           False  \n",
      "698627  False        False         False           False  \n",
      "698628  False        False         False           False  \n",
      "698629  False        False         False           False  \n",
      "698630  False        False         False           False  \n",
      "698631  False        False         False           False  \n",
      "698632  False        False         False           False  \n",
      "698633  False        False         False           False  \n",
      "698634  False        False         False           False  \n",
      "698635  False        False         False           False  \n",
      "698636  False        False         False           False  \n",
      "698637  False        False         False           False  \n",
      "698638  False        False         False           False  \n",
      "698639  False        False         False           False  \n",
      "698640  False        False         False           False  \n",
      "698641  False        False         False           False  \n",
      "698642  False        False         False           False  \n",
      "698643  False        False         False           False  \n",
      "698644  False        False         False           False  \n",
      "698645  False        False         False           False  \n",
      "698646  False        False         False           False  \n",
      "698647  False        False         False           False  \n",
      "698648  False        False         False           False  \n",
      "\n",
      "[698649 rows x 12 columns]\n"
     ]
    },
    {
     "ename": "TypeError",
     "evalue": "cannot compare a dtyped [bool] array with a scalar of type [NoneType]",
     "output_type": "error",
     "traceback": [
      "\u001b[1;31m---------------------------------------------------------------------------\u001b[0m",
      "\u001b[1;31mTypeError\u001b[0m                                 Traceback (most recent call last)",
      "\u001b[1;32m~\\Anaconda3\\lib\\site-packages\\pandas\\core\\ops.py\u001b[0m in \u001b[0;36mna_op\u001b[1;34m(x, y)\u001b[0m\n\u001b[0;32m   1788\u001b[0m         \u001b[1;32mtry\u001b[0m\u001b[1;33m:\u001b[0m\u001b[1;33m\u001b[0m\u001b[1;33m\u001b[0m\u001b[0m\n\u001b[1;32m-> 1789\u001b[1;33m             \u001b[0mresult\u001b[0m \u001b[1;33m=\u001b[0m \u001b[0mop\u001b[0m\u001b[1;33m(\u001b[0m\u001b[0mx\u001b[0m\u001b[1;33m,\u001b[0m \u001b[0my\u001b[0m\u001b[1;33m)\u001b[0m\u001b[1;33m\u001b[0m\u001b[1;33m\u001b[0m\u001b[0m\n\u001b[0m\u001b[0;32m   1790\u001b[0m         \u001b[1;32mexcept\u001b[0m \u001b[0mTypeError\u001b[0m\u001b[1;33m:\u001b[0m\u001b[1;33m\u001b[0m\u001b[1;33m\u001b[0m\u001b[0m\n",
      "\u001b[1;32m~\\Anaconda3\\lib\\site-packages\\pandas\\core\\ops.py\u001b[0m in \u001b[0;36mror_\u001b[1;34m(left, right)\u001b[0m\n\u001b[0;32m    190\u001b[0m \u001b[1;32mdef\u001b[0m \u001b[0mror_\u001b[0m\u001b[1;33m(\u001b[0m\u001b[0mleft\u001b[0m\u001b[1;33m,\u001b[0m \u001b[0mright\u001b[0m\u001b[1;33m)\u001b[0m\u001b[1;33m:\u001b[0m\u001b[1;33m\u001b[0m\u001b[1;33m\u001b[0m\u001b[0m\n\u001b[1;32m--> 191\u001b[1;33m     \u001b[1;32mreturn\u001b[0m \u001b[0moperator\u001b[0m\u001b[1;33m.\u001b[0m\u001b[0mor_\u001b[0m\u001b[1;33m(\u001b[0m\u001b[0mright\u001b[0m\u001b[1;33m,\u001b[0m \u001b[0mleft\u001b[0m\u001b[1;33m)\u001b[0m\u001b[1;33m\u001b[0m\u001b[1;33m\u001b[0m\u001b[0m\n\u001b[0m\u001b[0;32m    192\u001b[0m \u001b[1;33m\u001b[0m\u001b[0m\n",
      "\u001b[1;31mTypeError\u001b[0m: unsupported operand type(s) for |: 'NoneType' and 'bool'",
      "\nDuring handling of the above exception, another exception occurred:\n",
      "\u001b[1;31mValueError\u001b[0m                                Traceback (most recent call last)",
      "\u001b[1;32m~\\Anaconda3\\lib\\site-packages\\pandas\\core\\ops.py\u001b[0m in \u001b[0;36mna_op\u001b[1;34m(x, y)\u001b[0m\n\u001b[0;32m   1803\u001b[0m                 \u001b[1;32mtry\u001b[0m\u001b[1;33m:\u001b[0m\u001b[1;33m\u001b[0m\u001b[1;33m\u001b[0m\u001b[0m\n\u001b[1;32m-> 1804\u001b[1;33m                     \u001b[0mresult\u001b[0m \u001b[1;33m=\u001b[0m \u001b[0mlibops\u001b[0m\u001b[1;33m.\u001b[0m\u001b[0mscalar_binop\u001b[0m\u001b[1;33m(\u001b[0m\u001b[0mx\u001b[0m\u001b[1;33m,\u001b[0m \u001b[0my\u001b[0m\u001b[1;33m,\u001b[0m \u001b[0mop\u001b[0m\u001b[1;33m)\u001b[0m\u001b[1;33m\u001b[0m\u001b[1;33m\u001b[0m\u001b[0m\n\u001b[0m\u001b[0;32m   1805\u001b[0m                 except (TypeError, ValueError, AttributeError,\n",
      "\u001b[1;32mpandas/_libs/ops.pyx\u001b[0m in \u001b[0;36mpandas._libs.ops.scalar_binop\u001b[1;34m()\u001b[0m\n",
      "\u001b[1;31mValueError\u001b[0m: Does not understand character buffer dtype format string ('?')",
      "\nDuring handling of the above exception, another exception occurred:\n",
      "\u001b[1;31mTypeError\u001b[0m                                 Traceback (most recent call last)",
      "\u001b[1;32m<ipython-input-14-a690d21df656>\u001b[0m in \u001b[0;36m<module>\u001b[1;34m\u001b[0m\n\u001b[1;32m----> 1\u001b[1;33m \u001b[0mprint\u001b[0m\u001b[1;33m(\u001b[0m\u001b[0mtrain_norm\u001b[0m \u001b[1;33m<\u001b[0m \u001b[1;33m(\u001b[0m\u001b[0mq1\u001b[0m \u001b[1;33m-\u001b[0m \u001b[1;36m1.5\u001b[0m\u001b[1;33m*\u001b[0m\u001b[0mIQR\u001b[0m\u001b[1;33m)\u001b[0m\u001b[1;33m)\u001b[0m \u001b[1;33m|\u001b[0m \u001b[1;33m(\u001b[0m\u001b[0mtrain_norm\u001b[0m \u001b[1;33m>\u001b[0m \u001b[1;33m(\u001b[0m\u001b[0mq3\u001b[0m \u001b[1;33m+\u001b[0m \u001b[1;36m1.5\u001b[0m\u001b[1;33m*\u001b[0m\u001b[0mIQR\u001b[0m\u001b[1;33m)\u001b[0m\u001b[1;33m)\u001b[0m\u001b[1;33m\u001b[0m\u001b[1;33m\u001b[0m\u001b[0m\n\u001b[0m",
      "\u001b[1;32m~\\Anaconda3\\lib\\site-packages\\pandas\\core\\ops.py\u001b[0m in \u001b[0;36mf\u001b[1;34m(self, other, axis, level, fill_value)\u001b[0m\n\u001b[0;32m   2034\u001b[0m \u001b[1;33m\u001b[0m\u001b[0m\n\u001b[0;32m   2035\u001b[0m             \u001b[1;32massert\u001b[0m \u001b[0mnp\u001b[0m\u001b[1;33m.\u001b[0m\u001b[0mndim\u001b[0m\u001b[1;33m(\u001b[0m\u001b[0mother\u001b[0m\u001b[1;33m)\u001b[0m \u001b[1;33m==\u001b[0m \u001b[1;36m0\u001b[0m\u001b[1;33m\u001b[0m\u001b[1;33m\u001b[0m\u001b[0m\n\u001b[1;32m-> 2036\u001b[1;33m             \u001b[1;32mreturn\u001b[0m \u001b[0mself\u001b[0m\u001b[1;33m.\u001b[0m\u001b[0m_combine_const\u001b[0m\u001b[1;33m(\u001b[0m\u001b[0mother\u001b[0m\u001b[1;33m,\u001b[0m \u001b[0mop\u001b[0m\u001b[1;33m)\u001b[0m\u001b[1;33m\u001b[0m\u001b[1;33m\u001b[0m\u001b[0m\n\u001b[0m\u001b[0;32m   2037\u001b[0m \u001b[1;33m\u001b[0m\u001b[0m\n\u001b[0;32m   2038\u001b[0m     \u001b[0mf\u001b[0m\u001b[1;33m.\u001b[0m\u001b[0m__name__\u001b[0m \u001b[1;33m=\u001b[0m \u001b[0mop_name\u001b[0m\u001b[1;33m\u001b[0m\u001b[1;33m\u001b[0m\u001b[0m\n",
      "\u001b[1;32m~\\Anaconda3\\lib\\site-packages\\pandas\\core\\frame.py\u001b[0m in \u001b[0;36m_combine_const\u001b[1;34m(self, other, func)\u001b[0m\n\u001b[0;32m   5118\u001b[0m     \u001b[1;32mdef\u001b[0m \u001b[0m_combine_const\u001b[0m\u001b[1;33m(\u001b[0m\u001b[0mself\u001b[0m\u001b[1;33m,\u001b[0m \u001b[0mother\u001b[0m\u001b[1;33m,\u001b[0m \u001b[0mfunc\u001b[0m\u001b[1;33m)\u001b[0m\u001b[1;33m:\u001b[0m\u001b[1;33m\u001b[0m\u001b[1;33m\u001b[0m\u001b[0m\n\u001b[0;32m   5119\u001b[0m         \u001b[1;32massert\u001b[0m \u001b[0mlib\u001b[0m\u001b[1;33m.\u001b[0m\u001b[0mis_scalar\u001b[0m\u001b[1;33m(\u001b[0m\u001b[0mother\u001b[0m\u001b[1;33m)\u001b[0m \u001b[1;32mor\u001b[0m \u001b[0mnp\u001b[0m\u001b[1;33m.\u001b[0m\u001b[0mndim\u001b[0m\u001b[1;33m(\u001b[0m\u001b[0mother\u001b[0m\u001b[1;33m)\u001b[0m \u001b[1;33m==\u001b[0m \u001b[1;36m0\u001b[0m\u001b[1;33m\u001b[0m\u001b[1;33m\u001b[0m\u001b[0m\n\u001b[1;32m-> 5120\u001b[1;33m         \u001b[1;32mreturn\u001b[0m \u001b[0mops\u001b[0m\u001b[1;33m.\u001b[0m\u001b[0mdispatch_to_series\u001b[0m\u001b[1;33m(\u001b[0m\u001b[0mself\u001b[0m\u001b[1;33m,\u001b[0m \u001b[0mother\u001b[0m\u001b[1;33m,\u001b[0m \u001b[0mfunc\u001b[0m\u001b[1;33m)\u001b[0m\u001b[1;33m\u001b[0m\u001b[1;33m\u001b[0m\u001b[0m\n\u001b[0m\u001b[0;32m   5121\u001b[0m \u001b[1;33m\u001b[0m\u001b[0m\n\u001b[0;32m   5122\u001b[0m     \u001b[1;32mdef\u001b[0m \u001b[0mcombine\u001b[0m\u001b[1;33m(\u001b[0m\u001b[0mself\u001b[0m\u001b[1;33m,\u001b[0m \u001b[0mother\u001b[0m\u001b[1;33m,\u001b[0m \u001b[0mfunc\u001b[0m\u001b[1;33m,\u001b[0m \u001b[0mfill_value\u001b[0m\u001b[1;33m=\u001b[0m\u001b[1;32mNone\u001b[0m\u001b[1;33m,\u001b[0m \u001b[0moverwrite\u001b[0m\u001b[1;33m=\u001b[0m\u001b[1;32mTrue\u001b[0m\u001b[1;33m)\u001b[0m\u001b[1;33m:\u001b[0m\u001b[1;33m\u001b[0m\u001b[1;33m\u001b[0m\u001b[0m\n",
      "\u001b[1;32m~\\Anaconda3\\lib\\site-packages\\pandas\\core\\ops.py\u001b[0m in \u001b[0;36mdispatch_to_series\u001b[1;34m(left, right, func, str_rep, axis)\u001b[0m\n\u001b[0;32m   1155\u001b[0m         \u001b[1;32mraise\u001b[0m \u001b[0mNotImplementedError\u001b[0m\u001b[1;33m(\u001b[0m\u001b[0mright\u001b[0m\u001b[1;33m)\u001b[0m\u001b[1;33m\u001b[0m\u001b[1;33m\u001b[0m\u001b[0m\n\u001b[0;32m   1156\u001b[0m \u001b[1;33m\u001b[0m\u001b[0m\n\u001b[1;32m-> 1157\u001b[1;33m     \u001b[0mnew_data\u001b[0m \u001b[1;33m=\u001b[0m \u001b[0mexpressions\u001b[0m\u001b[1;33m.\u001b[0m\u001b[0mevaluate\u001b[0m\u001b[1;33m(\u001b[0m\u001b[0mcolumn_op\u001b[0m\u001b[1;33m,\u001b[0m \u001b[0mstr_rep\u001b[0m\u001b[1;33m,\u001b[0m \u001b[0mleft\u001b[0m\u001b[1;33m,\u001b[0m \u001b[0mright\u001b[0m\u001b[1;33m)\u001b[0m\u001b[1;33m\u001b[0m\u001b[1;33m\u001b[0m\u001b[0m\n\u001b[0m\u001b[0;32m   1158\u001b[0m \u001b[1;33m\u001b[0m\u001b[0m\n\u001b[0;32m   1159\u001b[0m     \u001b[0mresult\u001b[0m \u001b[1;33m=\u001b[0m \u001b[0mleft\u001b[0m\u001b[1;33m.\u001b[0m\u001b[0m_constructor\u001b[0m\u001b[1;33m(\u001b[0m\u001b[0mnew_data\u001b[0m\u001b[1;33m,\u001b[0m \u001b[0mindex\u001b[0m\u001b[1;33m=\u001b[0m\u001b[0mleft\u001b[0m\u001b[1;33m.\u001b[0m\u001b[0mindex\u001b[0m\u001b[1;33m,\u001b[0m \u001b[0mcopy\u001b[0m\u001b[1;33m=\u001b[0m\u001b[1;32mFalse\u001b[0m\u001b[1;33m)\u001b[0m\u001b[1;33m\u001b[0m\u001b[1;33m\u001b[0m\u001b[0m\n",
      "\u001b[1;32m~\\Anaconda3\\lib\\site-packages\\pandas\\core\\computation\\expressions.py\u001b[0m in \u001b[0;36mevaluate\u001b[1;34m(op, op_str, a, b, use_numexpr, **eval_kwargs)\u001b[0m\n\u001b[0;32m    206\u001b[0m     \u001b[0muse_numexpr\u001b[0m \u001b[1;33m=\u001b[0m \u001b[0muse_numexpr\u001b[0m \u001b[1;32mand\u001b[0m \u001b[0m_bool_arith_check\u001b[0m\u001b[1;33m(\u001b[0m\u001b[0mop_str\u001b[0m\u001b[1;33m,\u001b[0m \u001b[0ma\u001b[0m\u001b[1;33m,\u001b[0m \u001b[0mb\u001b[0m\u001b[1;33m)\u001b[0m\u001b[1;33m\u001b[0m\u001b[1;33m\u001b[0m\u001b[0m\n\u001b[0;32m    207\u001b[0m     \u001b[1;32mif\u001b[0m \u001b[0muse_numexpr\u001b[0m\u001b[1;33m:\u001b[0m\u001b[1;33m\u001b[0m\u001b[1;33m\u001b[0m\u001b[0m\n\u001b[1;32m--> 208\u001b[1;33m         \u001b[1;32mreturn\u001b[0m \u001b[0m_evaluate\u001b[0m\u001b[1;33m(\u001b[0m\u001b[0mop\u001b[0m\u001b[1;33m,\u001b[0m \u001b[0mop_str\u001b[0m\u001b[1;33m,\u001b[0m \u001b[0ma\u001b[0m\u001b[1;33m,\u001b[0m \u001b[0mb\u001b[0m\u001b[1;33m,\u001b[0m \u001b[1;33m**\u001b[0m\u001b[0meval_kwargs\u001b[0m\u001b[1;33m)\u001b[0m\u001b[1;33m\u001b[0m\u001b[1;33m\u001b[0m\u001b[0m\n\u001b[0m\u001b[0;32m    209\u001b[0m     \u001b[1;32mreturn\u001b[0m \u001b[0m_evaluate_standard\u001b[0m\u001b[1;33m(\u001b[0m\u001b[0mop\u001b[0m\u001b[1;33m,\u001b[0m \u001b[0mop_str\u001b[0m\u001b[1;33m,\u001b[0m \u001b[0ma\u001b[0m\u001b[1;33m,\u001b[0m \u001b[0mb\u001b[0m\u001b[1;33m)\u001b[0m\u001b[1;33m\u001b[0m\u001b[1;33m\u001b[0m\u001b[0m\n\u001b[0;32m    210\u001b[0m \u001b[1;33m\u001b[0m\u001b[0m\n",
      "\u001b[1;32m~\\Anaconda3\\lib\\site-packages\\pandas\\core\\computation\\expressions.py\u001b[0m in \u001b[0;36m_evaluate_numexpr\u001b[1;34m(op, op_str, a, b, truediv, reversed, **eval_kwargs)\u001b[0m\n\u001b[0;32m    121\u001b[0m \u001b[1;33m\u001b[0m\u001b[0m\n\u001b[0;32m    122\u001b[0m     \u001b[1;32mif\u001b[0m \u001b[0mresult\u001b[0m \u001b[1;32mis\u001b[0m \u001b[1;32mNone\u001b[0m\u001b[1;33m:\u001b[0m\u001b[1;33m\u001b[0m\u001b[1;33m\u001b[0m\u001b[0m\n\u001b[1;32m--> 123\u001b[1;33m         \u001b[0mresult\u001b[0m \u001b[1;33m=\u001b[0m \u001b[0m_evaluate_standard\u001b[0m\u001b[1;33m(\u001b[0m\u001b[0mop\u001b[0m\u001b[1;33m,\u001b[0m \u001b[0mop_str\u001b[0m\u001b[1;33m,\u001b[0m \u001b[0ma\u001b[0m\u001b[1;33m,\u001b[0m \u001b[0mb\u001b[0m\u001b[1;33m)\u001b[0m\u001b[1;33m\u001b[0m\u001b[1;33m\u001b[0m\u001b[0m\n\u001b[0m\u001b[0;32m    124\u001b[0m \u001b[1;33m\u001b[0m\u001b[0m\n\u001b[0;32m    125\u001b[0m     \u001b[1;32mreturn\u001b[0m \u001b[0mresult\u001b[0m\u001b[1;33m\u001b[0m\u001b[1;33m\u001b[0m\u001b[0m\n",
      "\u001b[1;32m~\\Anaconda3\\lib\\site-packages\\pandas\\core\\computation\\expressions.py\u001b[0m in \u001b[0;36m_evaluate_standard\u001b[1;34m(op, op_str, a, b, **eval_kwargs)\u001b[0m\n\u001b[0;32m     66\u001b[0m         \u001b[0m_store_test_result\u001b[0m\u001b[1;33m(\u001b[0m\u001b[1;32mFalse\u001b[0m\u001b[1;33m)\u001b[0m\u001b[1;33m\u001b[0m\u001b[1;33m\u001b[0m\u001b[0m\n\u001b[0;32m     67\u001b[0m     \u001b[1;32mwith\u001b[0m \u001b[0mnp\u001b[0m\u001b[1;33m.\u001b[0m\u001b[0merrstate\u001b[0m\u001b[1;33m(\u001b[0m\u001b[0mall\u001b[0m\u001b[1;33m=\u001b[0m\u001b[1;34m'ignore'\u001b[0m\u001b[1;33m)\u001b[0m\u001b[1;33m:\u001b[0m\u001b[1;33m\u001b[0m\u001b[1;33m\u001b[0m\u001b[0m\n\u001b[1;32m---> 68\u001b[1;33m         \u001b[1;32mreturn\u001b[0m \u001b[0mop\u001b[0m\u001b[1;33m(\u001b[0m\u001b[0ma\u001b[0m\u001b[1;33m,\u001b[0m \u001b[0mb\u001b[0m\u001b[1;33m)\u001b[0m\u001b[1;33m\u001b[0m\u001b[1;33m\u001b[0m\u001b[0m\n\u001b[0m\u001b[0;32m     69\u001b[0m \u001b[1;33m\u001b[0m\u001b[0m\n\u001b[0;32m     70\u001b[0m \u001b[1;33m\u001b[0m\u001b[0m\n",
      "\u001b[1;32m~\\Anaconda3\\lib\\site-packages\\pandas\\core\\ops.py\u001b[0m in \u001b[0;36mcolumn_op\u001b[1;34m(a, b)\u001b[0m\n\u001b[0;32m   1126\u001b[0m         \u001b[1;32mdef\u001b[0m \u001b[0mcolumn_op\u001b[0m\u001b[1;33m(\u001b[0m\u001b[0ma\u001b[0m\u001b[1;33m,\u001b[0m \u001b[0mb\u001b[0m\u001b[1;33m)\u001b[0m\u001b[1;33m:\u001b[0m\u001b[1;33m\u001b[0m\u001b[1;33m\u001b[0m\u001b[0m\n\u001b[0;32m   1127\u001b[0m             return {i: func(a.iloc[:, i], b)\n\u001b[1;32m-> 1128\u001b[1;33m                     for i in range(len(a.columns))}\n\u001b[0m\u001b[0;32m   1129\u001b[0m \u001b[1;33m\u001b[0m\u001b[0m\n\u001b[0;32m   1130\u001b[0m     \u001b[1;32melif\u001b[0m \u001b[0misinstance\u001b[0m\u001b[1;33m(\u001b[0m\u001b[0mright\u001b[0m\u001b[1;33m,\u001b[0m \u001b[0mABCDataFrame\u001b[0m\u001b[1;33m)\u001b[0m\u001b[1;33m:\u001b[0m\u001b[1;33m\u001b[0m\u001b[1;33m\u001b[0m\u001b[0m\n",
      "\u001b[1;32m~\\Anaconda3\\lib\\site-packages\\pandas\\core\\ops.py\u001b[0m in \u001b[0;36m<dictcomp>\u001b[1;34m(.0)\u001b[0m\n\u001b[0;32m   1126\u001b[0m         \u001b[1;32mdef\u001b[0m \u001b[0mcolumn_op\u001b[0m\u001b[1;33m(\u001b[0m\u001b[0ma\u001b[0m\u001b[1;33m,\u001b[0m \u001b[0mb\u001b[0m\u001b[1;33m)\u001b[0m\u001b[1;33m:\u001b[0m\u001b[1;33m\u001b[0m\u001b[1;33m\u001b[0m\u001b[0m\n\u001b[0;32m   1127\u001b[0m             return {i: func(a.iloc[:, i], b)\n\u001b[1;32m-> 1128\u001b[1;33m                     for i in range(len(a.columns))}\n\u001b[0m\u001b[0;32m   1129\u001b[0m \u001b[1;33m\u001b[0m\u001b[0m\n\u001b[0;32m   1130\u001b[0m     \u001b[1;32melif\u001b[0m \u001b[0misinstance\u001b[0m\u001b[1;33m(\u001b[0m\u001b[0mright\u001b[0m\u001b[1;33m,\u001b[0m \u001b[0mABCDataFrame\u001b[0m\u001b[1;33m)\u001b[0m\u001b[1;33m:\u001b[0m\u001b[1;33m\u001b[0m\u001b[1;33m\u001b[0m\u001b[0m\n",
      "\u001b[1;32m~\\Anaconda3\\lib\\site-packages\\pandas\\core\\ops.py\u001b[0m in \u001b[0;36mror_\u001b[1;34m(left, right)\u001b[0m\n\u001b[0;32m    189\u001b[0m \u001b[1;33m\u001b[0m\u001b[0m\n\u001b[0;32m    190\u001b[0m \u001b[1;32mdef\u001b[0m \u001b[0mror_\u001b[0m\u001b[1;33m(\u001b[0m\u001b[0mleft\u001b[0m\u001b[1;33m,\u001b[0m \u001b[0mright\u001b[0m\u001b[1;33m)\u001b[0m\u001b[1;33m:\u001b[0m\u001b[1;33m\u001b[0m\u001b[1;33m\u001b[0m\u001b[0m\n\u001b[1;32m--> 191\u001b[1;33m     \u001b[1;32mreturn\u001b[0m \u001b[0moperator\u001b[0m\u001b[1;33m.\u001b[0m\u001b[0mor_\u001b[0m\u001b[1;33m(\u001b[0m\u001b[0mright\u001b[0m\u001b[1;33m,\u001b[0m \u001b[0mleft\u001b[0m\u001b[1;33m)\u001b[0m\u001b[1;33m\u001b[0m\u001b[1;33m\u001b[0m\u001b[0m\n\u001b[0m\u001b[0;32m    192\u001b[0m \u001b[1;33m\u001b[0m\u001b[0m\n\u001b[0;32m    193\u001b[0m \u001b[1;33m\u001b[0m\u001b[0m\n",
      "\u001b[1;32m~\\Anaconda3\\lib\\site-packages\\pandas\\core\\ops.py\u001b[0m in \u001b[0;36mwrapper\u001b[1;34m(self, other)\u001b[0m\n\u001b[0;32m   1848\u001b[0m         filler = (fill_int if is_self_int_dtype and is_other_int_dtype\n\u001b[0;32m   1849\u001b[0m                   else fill_bool)\n\u001b[1;32m-> 1850\u001b[1;33m         \u001b[0mres_values\u001b[0m \u001b[1;33m=\u001b[0m \u001b[0mna_op\u001b[0m\u001b[1;33m(\u001b[0m\u001b[0mself\u001b[0m\u001b[1;33m.\u001b[0m\u001b[0mvalues\u001b[0m\u001b[1;33m,\u001b[0m \u001b[0movalues\u001b[0m\u001b[1;33m)\u001b[0m\u001b[1;33m\u001b[0m\u001b[1;33m\u001b[0m\u001b[0m\n\u001b[0m\u001b[0;32m   1851\u001b[0m         unfilled = self._constructor(res_values,\n\u001b[0;32m   1852\u001b[0m                                      index=self.index, name=res_name)\n",
      "\u001b[1;32m~\\Anaconda3\\lib\\site-packages\\pandas\\core\\ops.py\u001b[0m in \u001b[0;36mna_op\u001b[1;34m(x, y)\u001b[0m\n\u001b[0;32m   1808\u001b[0m                                     \u001b[1;34m\"with a scalar of type [{typ}]\"\u001b[0m\u001b[1;33m\u001b[0m\u001b[1;33m\u001b[0m\u001b[0m\n\u001b[0;32m   1809\u001b[0m                                     .format(dtype=x.dtype,\n\u001b[1;32m-> 1810\u001b[1;33m                                             typ=type(y).__name__))\n\u001b[0m\u001b[0;32m   1811\u001b[0m \u001b[1;33m\u001b[0m\u001b[0m\n\u001b[0;32m   1812\u001b[0m         \u001b[1;32mreturn\u001b[0m \u001b[0mresult\u001b[0m\u001b[1;33m\u001b[0m\u001b[1;33m\u001b[0m\u001b[0m\n",
      "\u001b[1;31mTypeError\u001b[0m: cannot compare a dtyped [bool] array with a scalar of type [NoneType]"
     ]
    }
   ],
   "source": [
    "print(train_norm < (q1 - 1.5*IQR)) | (train_norm > (q3 + 1.5*IQR))"
   ]
  },
  {
   "cell_type": "code",
   "execution_count": 16,
   "metadata": {},
   "outputs": [],
   "source": [
    "train_noutiqr=train_norm[~((train_norm < (q1 - 1.5*IQR)) | (train_norm > (q3 + 1.5*IQR))).any(axis=1)]"
   ]
  },
  {
   "cell_type": "code",
   "execution_count": 17,
   "metadata": {},
   "outputs": [
    {
     "data": {
      "text/plain": [
       "<matplotlib.axes._subplots.AxesSubplot at 0x1deb27b96d8>"
      ]
     },
     "execution_count": 17,
     "metadata": {},
     "output_type": "execute_result"
    },
    {
     "data": {
      "image/png": "[encoded data removed]",
      "text/plain": [
       "<Figure size 1080x360 with 1 Axes>"
      ]
     },
     "metadata": {
      "needs_background": "light"
     },
     "output_type": "display_data"
    }
   ],
   "source": [
    "plt.figure(figsize=(15, 5))\n",
    "sns.boxplot(data=train_noutiqr)"
   ]
  },
  {
   "cell_type": "code",
   "execution_count": 127,
   "metadata": {},
   "outputs": [
    {
     "data": {
      "text/plain": [
       "(570755, 12)"
      ]
     },
     "execution_count": 127,
     "metadata": {},
     "output_type": "execute_result"
    }
   ],
   "source": [
    "np.shape(train_noutiqr)\n"
   ]
  },
  {
   "cell_type": "code",
   "execution_count": 128,
   "metadata": {},
   "outputs": [
    {
     "data": {
      "text/html": [
       "<div>\n",
       "<style scoped>\n",
       "    .dataframe tbody tr th:only-of-type {\n",
       "        vertical-align: middle;\n",
       "    }\n",
       "\n",
       "    .dataframe tbody tr th {\n",
       "        vertical-align: top;\n",
       "    }\n",
       "\n",
       "    .dataframe thead th {\n",
       "        text-align: right;\n",
       "    }\n",
       "</style>\n",
       "<table border=\"1\" class=\"dataframe\">\n",
       "  <thead>\n",
       "    <tr style=\"text-align: right;\">\n",
       "      <th></th>\n",
       "      <th>ambient</th>\n",
       "      <th>coolant</th>\n",
       "      <th>u_d</th>\n",
       "      <th>u_q</th>\n",
       "      <th>motor_speed</th>\n",
       "      <th>torque</th>\n",
       "      <th>i_d</th>\n",
       "      <th>i_q</th>\n",
       "      <th>pm</th>\n",
       "      <th>stator_yoke</th>\n",
       "      <th>stator_tooth</th>\n",
       "      <th>stator_winding</th>\n",
       "    </tr>\n",
       "  </thead>\n",
       "  <tbody>\n",
       "    <tr>\n",
       "      <th>ambient</th>\n",
       "      <td>1.000000</td>\n",
       "      <td>0.399104</td>\n",
       "      <td>0.148107</td>\n",
       "      <td>0.071162</td>\n",
       "      <td>0.035195</td>\n",
       "      <td>-0.161546</td>\n",
       "      <td>0.015193</td>\n",
       "      <td>-0.163306</td>\n",
       "      <td>0.395864</td>\n",
       "      <td>0.415436</td>\n",
       "      <td>0.364166</td>\n",
       "      <td>0.291525</td>\n",
       "    </tr>\n",
       "    <tr>\n",
       "      <th>coolant</th>\n",
       "      <td>0.399104</td>\n",
       "      <td>1.000000</td>\n",
       "      <td>0.179047</td>\n",
       "      <td>0.013503</td>\n",
       "      <td>-0.055528</td>\n",
       "      <td>-0.179664</td>\n",
       "      <td>0.110067</td>\n",
       "      <td>-0.175142</td>\n",
       "      <td>0.389324</td>\n",
       "      <td>0.882751</td>\n",
       "      <td>0.702839</td>\n",
       "      <td>0.538799</td>\n",
       "    </tr>\n",
       "    <tr>\n",
       "      <th>u_d</th>\n",
       "      <td>0.148107</td>\n",
       "      <td>0.179047</td>\n",
       "      <td>1.000000</td>\n",
       "      <td>-0.013419</td>\n",
       "      <td>-0.309868</td>\n",
       "      <td>-0.886630</td>\n",
       "      <td>0.538519</td>\n",
       "      <td>-0.845839</td>\n",
       "      <td>-0.172760</td>\n",
       "      <td>-0.009180</td>\n",
       "      <td>-0.152607</td>\n",
       "      <td>-0.262448</td>\n",
       "    </tr>\n",
       "    <tr>\n",
       "      <th>u_q</th>\n",
       "      <td>0.071162</td>\n",
       "      <td>0.013503</td>\n",
       "      <td>-0.013419</td>\n",
       "      <td>1.000000</td>\n",
       "      <td>0.725542</td>\n",
       "      <td>-0.054977</td>\n",
       "      <td>-0.283423</td>\n",
       "      <td>-0.037786</td>\n",
       "      <td>0.092239</td>\n",
       "      <td>0.128940</td>\n",
       "      <td>0.198520</td>\n",
       "      <td>0.204324</td>\n",
       "    </tr>\n",
       "    <tr>\n",
       "      <th>motor_speed</th>\n",
       "      <td>0.035195</td>\n",
       "      <td>-0.055528</td>\n",
       "      <td>-0.309868</td>\n",
       "      <td>0.725542</td>\n",
       "      <td>1.000000</td>\n",
       "      <td>0.107552</td>\n",
       "      <td>-0.821981</td>\n",
       "      <td>0.070876</td>\n",
       "      <td>0.328969</td>\n",
       "      <td>0.196700</td>\n",
       "      <td>0.378609</td>\n",
       "      <td>0.476022</td>\n",
       "    </tr>\n",
       "    <tr>\n",
       "      <th>torque</th>\n",
       "      <td>-0.161546</td>\n",
       "      <td>-0.179664</td>\n",
       "      <td>-0.886630</td>\n",
       "      <td>-0.054977</td>\n",
       "      <td>0.107552</td>\n",
       "      <td>1.000000</td>\n",
       "      <td>-0.392712</td>\n",
       "      <td>0.992636</td>\n",
       "      <td>0.064703</td>\n",
       "      <td>-0.034552</td>\n",
       "      <td>0.074168</td>\n",
       "      <td>0.171876</td>\n",
       "    </tr>\n",
       "    <tr>\n",
       "      <th>i_d</th>\n",
       "      <td>0.015193</td>\n",
       "      <td>0.110067</td>\n",
       "      <td>0.538519</td>\n",
       "      <td>-0.283423</td>\n",
       "      <td>-0.821981</td>\n",
       "      <td>-0.392712</td>\n",
       "      <td>1.000000</td>\n",
       "      <td>-0.327703</td>\n",
       "      <td>-0.353554</td>\n",
       "      <td>-0.175842</td>\n",
       "      <td>-0.387717</td>\n",
       "      <td>-0.534428</td>\n",
       "    </tr>\n",
       "    <tr>\n",
       "      <th>i_q</th>\n",
       "      <td>-0.163306</td>\n",
       "      <td>-0.175142</td>\n",
       "      <td>-0.845839</td>\n",
       "      <td>-0.037786</td>\n",
       "      <td>0.070876</td>\n",
       "      <td>0.992636</td>\n",
       "      <td>-0.327703</td>\n",
       "      <td>1.000000</td>\n",
       "      <td>0.037216</td>\n",
       "      <td>-0.046473</td>\n",
       "      <td>0.049560</td>\n",
       "      <td>0.137633</td>\n",
       "    </tr>\n",
       "    <tr>\n",
       "      <th>pm</th>\n",
       "      <td>0.395864</td>\n",
       "      <td>0.389324</td>\n",
       "      <td>-0.172760</td>\n",
       "      <td>0.092239</td>\n",
       "      <td>0.328969</td>\n",
       "      <td>0.064703</td>\n",
       "      <td>-0.353554</td>\n",
       "      <td>0.037216</td>\n",
       "      <td>1.000000</td>\n",
       "      <td>0.680604</td>\n",
       "      <td>0.781823</td>\n",
       "      <td>0.784086</td>\n",
       "    </tr>\n",
       "    <tr>\n",
       "      <th>stator_yoke</th>\n",
       "      <td>0.415436</td>\n",
       "      <td>0.882751</td>\n",
       "      <td>-0.009180</td>\n",
       "      <td>0.128940</td>\n",
       "      <td>0.196700</td>\n",
       "      <td>-0.034552</td>\n",
       "      <td>-0.175842</td>\n",
       "      <td>-0.046473</td>\n",
       "      <td>0.680604</td>\n",
       "      <td>1.000000</td>\n",
       "      <td>0.950249</td>\n",
       "      <td>0.855825</td>\n",
       "    </tr>\n",
       "    <tr>\n",
       "      <th>stator_tooth</th>\n",
       "      <td>0.364166</td>\n",
       "      <td>0.702839</td>\n",
       "      <td>-0.152607</td>\n",
       "      <td>0.198520</td>\n",
       "      <td>0.378609</td>\n",
       "      <td>0.074168</td>\n",
       "      <td>-0.387717</td>\n",
       "      <td>0.049560</td>\n",
       "      <td>0.781823</td>\n",
       "      <td>0.950249</td>\n",
       "      <td>1.000000</td>\n",
       "      <td>0.971594</td>\n",
       "    </tr>\n",
       "    <tr>\n",
       "      <th>stator_winding</th>\n",
       "      <td>0.291525</td>\n",
       "      <td>0.538799</td>\n",
       "      <td>-0.262448</td>\n",
       "      <td>0.204324</td>\n",
       "      <td>0.476022</td>\n",
       "      <td>0.171876</td>\n",
       "      <td>-0.534428</td>\n",
       "      <td>0.137633</td>\n",
       "      <td>0.784086</td>\n",
       "      <td>0.855825</td>\n",
       "      <td>0.971594</td>\n",
       "      <td>1.000000</td>\n",
       "    </tr>\n",
       "  </tbody>\n",
       "</table>\n",
       "</div>"
      ],
      "text/plain": [
       "                 ambient   coolant       u_d       u_q  motor_speed    torque  \\\n",
       "ambient         1.000000  0.399104  0.148107  0.071162     0.035195 -0.161546   \n",
       "coolant         0.399104  1.000000  0.179047  0.013503    -0.055528 -0.179664   \n",
       "u_d             0.148107  0.179047  1.000000 -0.013419    -0.309868 -0.886630   \n",
       "u_q             0.071162  0.013503 -0.013419  1.000000     0.725542 -0.054977   \n",
       "motor_speed     0.035195 -0.055528 -0.309868  0.725542     1.000000  0.107552   \n",
       "torque         -0.161546 -0.179664 -0.886630 -0.054977     0.107552  1.000000   \n",
       "i_d             0.015193  0.110067  0.538519 -0.283423    -0.821981 -0.392712   \n",
       "i_q            -0.163306 -0.175142 -0.845839 -0.037786     0.070876  0.992636   \n",
       "pm              0.395864  0.389324 -0.172760  0.092239     0.328969  0.064703   \n",
       "stator_yoke     0.415436  0.882751 -0.009180  0.128940     0.196700 -0.034552   \n",
       "stator_tooth    0.364166  0.702839 -0.152607  0.198520     0.378609  0.074168   \n",
       "stator_winding  0.291525  0.538799 -0.262448  0.204324     0.476022  0.171876   \n",
       "\n",
       "                     i_d       i_q        pm  stator_yoke  stator_tooth  \\\n",
       "ambient         0.015193 -0.163306  0.395864     0.415436      0.364166   \n",
       "coolant         0.110067 -0.175142  0.389324     0.882751      0.702839   \n",
       "u_d             0.538519 -0.845839 -0.172760    -0.009180     -0.152607   \n",
       "u_q            -0.283423 -0.037786  0.092239     0.128940      0.198520   \n",
       "motor_speed    -0.821981  0.070876  0.328969     0.196700      0.378609   \n",
       "torque         -0.392712  0.992636  0.064703    -0.034552      0.074168   \n",
       "i_d             1.000000 -0.327703 -0.353554    -0.175842     -0.387717   \n",
       "i_q            -0.327703  1.000000  0.037216    -0.046473      0.049560   \n",
       "pm             -0.353554  0.037216  1.000000     0.680604      0.781823   \n",
       "stator_yoke    -0.175842 -0.046473  0.680604     1.000000      0.950249   \n",
       "stator_tooth   -0.387717  0.049560  0.781823     0.950249      1.000000   \n",
       "stator_winding -0.534428  0.137633  0.784086     0.855825      0.971594   \n",
       "\n",
       "                stator_winding  \n",
       "ambient               0.291525  \n",
       "coolant               0.538799  \n",
       "u_d                  -0.262448  \n",
       "u_q                   0.204324  \n",
       "motor_speed           0.476022  \n",
       "torque                0.171876  \n",
       "i_d                  -0.534428  \n",
       "i_q                   0.137633  \n",
       "pm                    0.784086  \n",
       "stator_yoke           0.855825  \n",
       "stator_tooth          0.971594  \n",
       "stator_winding        1.000000  "
      ]
     },
     "execution_count": 128,
     "metadata": {},
     "output_type": "execute_result"
    }
   ],
   "source": [
    "train_noutiqr.corr()"
   ]
  },
  {
   "cell_type": "code",
   "execution_count": 129,
   "metadata": {},
   "outputs": [
    {
     "data": {
      "image/png": "[encoded data removed]",
      "text/plain": [
       "<Figure size 432x288 with 2 Axes>"
      ]
     },
     "metadata": {
      "needs_background": "light"
     },
     "output_type": "display_data"
    }
   ],
   "source": [
    "corr = train_noutiqr.corr()\n",
    "ax = sns.heatmap(corr)"
   ]
  },
  {
   "cell_type": "code",
   "execution_count": 131,
   "metadata": {},
   "outputs": [
    {
     "data": {
      "text/plain": [
       "Index(['pm', 'stator_winding', 'stator_tooth', 'stator_yoke', 'ambient',\n",
       "       'coolant', 'motor_speed', 'u_q', 'torque', 'i_q'],\n",
       "      dtype='object')"
      ]
     },
     "execution_count": 131,
     "metadata": {},
     "output_type": "execute_result"
    }
   ],
   "source": [
    "important_columns = corr.nlargest(10, 'pm').index\n",
    "important_columns\n",
    "#we can remove the columns u_d and i_d"
   ]
  },
  {
   "cell_type": "code",
   "execution_count": 22,
   "metadata": {},
   "outputs": [],
   "source": [
    "train_data=train_noutiqr"
   ]
  },
  {
   "cell_type": "code",
   "execution_count": 19,
   "metadata": {},
   "outputs": [],
   "source": []
  },
  {
   "cell_type": "code",
   "execution_count": 23,
   "metadata": {},
   "outputs": [
    {
     "data": {
      "text/html": [
       "<div>\n",
       "<style scoped>\n",
       "    .dataframe tbody tr th:only-of-type {\n",
       "        vertical-align: middle;\n",
       "    }\n",
       "\n",
       "    .dataframe tbody tr th {\n",
       "        vertical-align: top;\n",
       "    }\n",
       "\n",
       "    .dataframe thead th {\n",
       "        text-align: right;\n",
       "    }\n",
       "</style>\n",
       "<table border=\"1\" class=\"dataframe\">\n",
       "  <thead>\n",
       "    <tr style=\"text-align: right;\">\n",
       "      <th></th>\n",
       "      <th>ambient</th>\n",
       "      <th>coolant</th>\n",
       "      <th>u_d</th>\n",
       "      <th>u_q</th>\n",
       "      <th>motor_speed</th>\n",
       "      <th>torque</th>\n",
       "      <th>i_d</th>\n",
       "      <th>i_q</th>\n",
       "      <th>pm</th>\n",
       "      <th>stator_yoke</th>\n",
       "      <th>stator_tooth</th>\n",
       "      <th>stator_winding</th>\n",
       "    </tr>\n",
       "  </thead>\n",
       "  <tbody>\n",
       "    <tr>\n",
       "      <th>0</th>\n",
       "      <td>-0.754516</td>\n",
       "      <td>-1.120888</td>\n",
       "      <td>0.324398</td>\n",
       "      <td>-1.288941</td>\n",
       "      <td>-1.214340</td>\n",
       "      <td>-0.247841</td>\n",
       "      <td>1.024799</td>\n",
       "      <td>-0.243691</td>\n",
       "      <td>-2.529196</td>\n",
       "      <td>-1.829997</td>\n",
       "      <td>-2.064486</td>\n",
       "      <td>-2.017188</td>\n",
       "    </tr>\n",
       "    <tr>\n",
       "      <th>1</th>\n",
       "      <td>-0.785490</td>\n",
       "      <td>-1.119127</td>\n",
       "      <td>0.329245</td>\n",
       "      <td>-1.292896</td>\n",
       "      <td>-1.214340</td>\n",
       "      <td>-0.247088</td>\n",
       "      <td>1.024674</td>\n",
       "      <td>-0.243648</td>\n",
       "      <td>-2.529801</td>\n",
       "      <td>-1.828977</td>\n",
       "      <td>-2.062416</td>\n",
       "      <td>-2.016498</td>\n",
       "    </tr>\n",
       "    <tr>\n",
       "      <th>2</th>\n",
       "      <td>-0.783519</td>\n",
       "      <td>-1.119210</td>\n",
       "      <td>0.330175</td>\n",
       "      <td>-1.292926</td>\n",
       "      <td>-1.214342</td>\n",
       "      <td>-0.246291</td>\n",
       "      <td>1.028074</td>\n",
       "      <td>-0.244788</td>\n",
       "      <td>-2.528762</td>\n",
       "      <td>-1.828910</td>\n",
       "      <td>-2.061479</td>\n",
       "      <td>-2.016787</td>\n",
       "    </tr>\n",
       "    <tr>\n",
       "      <th>3</th>\n",
       "      <td>-0.776576</td>\n",
       "      <td>-1.119221</td>\n",
       "      <td>0.331685</td>\n",
       "      <td>-1.294189</td>\n",
       "      <td>-1.214341</td>\n",
       "      <td>-0.246356</td>\n",
       "      <td>1.027036</td>\n",
       "      <td>-0.244442</td>\n",
       "      <td>-2.529024</td>\n",
       "      <td>-1.829074</td>\n",
       "      <td>-2.061137</td>\n",
       "      <td>-2.017300</td>\n",
       "    </tr>\n",
       "    <tr>\n",
       "      <th>4</th>\n",
       "      <td>-0.765388</td>\n",
       "      <td>-1.119400</td>\n",
       "      <td>0.331380</td>\n",
       "      <td>-1.294088</td>\n",
       "      <td>-1.214341</td>\n",
       "      <td>-0.245851</td>\n",
       "      <td>1.026259</td>\n",
       "      <td>-0.244173</td>\n",
       "      <td>-2.529328</td>\n",
       "      <td>-1.830506</td>\n",
       "      <td>-2.060892</td>\n",
       "      <td>-2.017039</td>\n",
       "    </tr>\n",
       "    <tr>\n",
       "      <th>5</th>\n",
       "      <td>-0.740722</td>\n",
       "      <td>-1.116438</td>\n",
       "      <td>0.332738</td>\n",
       "      <td>-1.296221</td>\n",
       "      <td>-1.214344</td>\n",
       "      <td>-0.245975</td>\n",
       "      <td>1.025334</td>\n",
       "      <td>-0.243866</td>\n",
       "      <td>-2.529972</td>\n",
       "      <td>-1.830757</td>\n",
       "      <td>-2.060295</td>\n",
       "      <td>-2.016367</td>\n",
       "    </tr>\n",
       "    <tr>\n",
       "      <th>6</th>\n",
       "      <td>-0.729318</td>\n",
       "      <td>-1.111947</td>\n",
       "      <td>0.332469</td>\n",
       "      <td>-1.296698</td>\n",
       "      <td>-1.214343</td>\n",
       "      <td>-0.245948</td>\n",
       "      <td>1.024862</td>\n",
       "      <td>-0.243718</td>\n",
       "      <td>-2.529804</td>\n",
       "      <td>-1.830014</td>\n",
       "      <td>-2.060659</td>\n",
       "      <td>-2.017335</td>\n",
       "    </tr>\n",
       "    <tr>\n",
       "      <th>7</th>\n",
       "      <td>-0.706902</td>\n",
       "      <td>-1.112445</td>\n",
       "      <td>0.332723</td>\n",
       "      <td>-1.296884</td>\n",
       "      <td>-1.214346</td>\n",
       "      <td>-0.245655</td>\n",
       "      <td>1.024544</td>\n",
       "      <td>-0.243610</td>\n",
       "      <td>-2.529340</td>\n",
       "      <td>-1.830627</td>\n",
       "      <td>-2.060461</td>\n",
       "      <td>-2.016744</td>\n",
       "    </tr>\n",
       "    <tr>\n",
       "      <th>8</th>\n",
       "      <td>-0.684396</td>\n",
       "      <td>-1.113819</td>\n",
       "      <td>0.332045</td>\n",
       "      <td>-1.294310</td>\n",
       "      <td>-1.214342</td>\n",
       "      <td>-0.245164</td>\n",
       "      <td>1.024500</td>\n",
       "      <td>-0.243606</td>\n",
       "      <td>-2.529050</td>\n",
       "      <td>-1.830605</td>\n",
       "      <td>-2.060098</td>\n",
       "      <td>-2.016411</td>\n",
       "    </tr>\n",
       "    <tr>\n",
       "      <th>9</th>\n",
       "      <td>-0.621502</td>\n",
       "      <td>-1.116736</td>\n",
       "      <td>0.332390</td>\n",
       "      <td>-1.296740</td>\n",
       "      <td>-1.214342</td>\n",
       "      <td>-0.245537</td>\n",
       "      <td>1.024437</td>\n",
       "      <td>-0.243560</td>\n",
       "      <td>-2.529436</td>\n",
       "      <td>-1.830354</td>\n",
       "      <td>-2.059673</td>\n",
       "      <td>-2.016787</td>\n",
       "    </tr>\n",
       "  </tbody>\n",
       "</table>\n",
       "</div>"
      ],
      "text/plain": [
       "    ambient   coolant       u_d       u_q  motor_speed    torque       i_d  \\\n",
       "0 -0.754516 -1.120888  0.324398 -1.288941    -1.214340 -0.247841  1.024799   \n",
       "1 -0.785490 -1.119127  0.329245 -1.292896    -1.214340 -0.247088  1.024674   \n",
       "2 -0.783519 -1.119210  0.330175 -1.292926    -1.214342 -0.246291  1.028074   \n",
       "3 -0.776576 -1.119221  0.331685 -1.294189    -1.214341 -0.246356  1.027036   \n",
       "4 -0.765388 -1.119400  0.331380 -1.294088    -1.214341 -0.245851  1.026259   \n",
       "5 -0.740722 -1.116438  0.332738 -1.296221    -1.214344 -0.245975  1.025334   \n",
       "6 -0.729318 -1.111947  0.332469 -1.296698    -1.214343 -0.245948  1.024862   \n",
       "7 -0.706902 -1.112445  0.332723 -1.296884    -1.214346 -0.245655  1.024544   \n",
       "8 -0.684396 -1.113819  0.332045 -1.294310    -1.214342 -0.245164  1.024500   \n",
       "9 -0.621502 -1.116736  0.332390 -1.296740    -1.214342 -0.245537  1.024437   \n",
       "\n",
       "        i_q        pm  stator_yoke  stator_tooth  stator_winding  \n",
       "0 -0.243691 -2.529196    -1.829997     -2.064486       -2.017188  \n",
       "1 -0.243648 -2.529801    -1.828977     -2.062416       -2.016498  \n",
       "2 -0.244788 -2.528762    -1.828910     -2.061479       -2.016787  \n",
       "3 -0.244442 -2.529024    -1.829074     -2.061137       -2.017300  \n",
       "4 -0.244173 -2.529328    -1.830506     -2.060892       -2.017039  \n",
       "5 -0.243866 -2.529972    -1.830757     -2.060295       -2.016367  \n",
       "6 -0.243718 -2.529804    -1.830014     -2.060659       -2.017335  \n",
       "7 -0.243610 -2.529340    -1.830627     -2.060461       -2.016744  \n",
       "8 -0.243606 -2.529050    -1.830605     -2.060098       -2.016411  \n",
       "9 -0.243560 -2.529436    -1.830354     -2.059673       -2.016787  "
      ]
     },
     "execution_count": 23,
     "metadata": {},
     "output_type": "execute_result"
    }
   ],
   "source": [
    "train_data.head(10)"
   ]
  },
  {
   "cell_type": "code",
   "execution_count": 24,
   "metadata": {},
   "outputs": [],
   "source": []
  },
  {
   "cell_type": "code",
   "execution_count": 25,
   "metadata": {},
   "outputs": [],
   "source": []
  },
  {
   "cell_type": "code",
   "execution_count": 26,
   "metadata": {},
   "outputs": [],
   "source": []
  },
  {
   "cell_type": "code",
   "execution_count": null,
   "metadata": {},
   "outputs": [],
   "source": []
  },
  {
   "cell_type": "code",
   "execution_count": null,
   "metadata": {},
   "outputs": [],
   "source": []
  },
  {
   "cell_type": "code",
   "execution_count": null,
   "metadata": {},
   "outputs": [],
   "source": []
  },
  {
   "cell_type": "code",
   "execution_count": null,
   "metadata": {},
   "outputs": [],
   "source": []
  },
  {
   "cell_type": "code",
   "execution_count": null,
   "metadata": {},
   "outputs": [],
   "source": []
  }
 ],
 "metadata": {
  "kernelspec": {
   "display_name": "Python 3",
   "language": "python",
   "name": "python3"
  },
  "language_info": {
   "codemirror_mode": {
    "name": "ipython",
    "version": 3
   },
   "file_extension": ".py",
   "mimetype": "text/x-python",
   "name": "python",
   "nbconvert_exporter": "python",
   "pygments_lexer": "ipython3",
   "version": "3.7.3"
  }
 },
 "nbformat": 4,
 "nbformat_minor": 2
}
